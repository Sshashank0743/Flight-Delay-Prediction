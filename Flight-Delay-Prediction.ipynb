{
 "cells": [
  {
   "cell_type": "markdown",
   "metadata": {
    "papermill": {
     "duration": 0.024909,
     "end_time": "2021-01-09T16:53:07.592774",
     "exception": false,
     "start_time": "2021-01-09T16:53:07.567865",
     "status": "completed"
    },
    "tags": []
   },
   "source": [
    "# Data Science Internship at Widhya"
   ]
  },
  {
   "cell_type": "markdown",
   "metadata": {
    "papermill": {
     "duration": 0.022945,
     "end_time": "2021-01-09T16:53:07.638607",
     "exception": false,
     "start_time": "2021-01-09T16:53:07.615662",
     "status": "completed"
    },
    "tags": []
   },
   "source": [
    "## Mission: Flight Delay Prediction"
   ]
  },
  {
   "cell_type": "markdown",
   "metadata": {
    "papermill": {
     "duration": 0.022435,
     "end_time": "2021-01-09T16:53:07.683983",
     "exception": false,
     "start_time": "2021-01-09T16:53:07.661548",
     "status": "completed"
    },
    "tags": []
   },
   "source": [
    "#### Importing Required Libraries"
   ]
  },
  {
   "cell_type": "code",
   "execution_count": 1,
   "metadata": {
    "execution": {
     "iopub.execute_input": "2021-01-09T16:53:07.741479Z",
     "iopub.status.busy": "2021-01-09T16:53:07.740589Z",
     "iopub.status.idle": "2021-01-09T16:53:09.193252Z",
     "shell.execute_reply": "2021-01-09T16:53:09.192446Z"
    },
    "papermill": {
     "duration": 1.478644,
     "end_time": "2021-01-09T16:53:09.193380",
     "exception": false,
     "start_time": "2021-01-09T16:53:07.714736",
     "status": "completed"
    },
    "tags": []
   },
   "outputs": [],
   "source": [
    "import pandas as pd\n",
    "import seaborn as sns\n",
    "from sklearn.model_selection import train_test_split\n",
    "from sklearn.preprocessing import StandardScaler\n",
    "from sklearn.tree import DecisionTreeClassifier\n",
    "from sklearn.metrics import roc_auc_score\n",
    "import matplotlib.pyplot as plt\n",
    "import numpy as np\n",
    "from sklearn import metrics\n"
   ]
  },
  {
   "cell_type": "markdown",
   "metadata": {
    "papermill": {
     "duration": 0.02361,
     "end_time": "2021-01-09T16:53:09.241901",
     "exception": false,
     "start_time": "2021-01-09T16:53:09.218291",
     "status": "completed"
    },
    "tags": []
   },
   "source": [
    "#### Reading & Previewing dataset"
   ]
  },
  {
   "cell_type": "code",
   "execution_count": 2,
   "metadata": {
    "execution": {
     "iopub.execute_input": "2021-01-09T16:53:09.298075Z",
     "iopub.status.busy": "2021-01-09T16:53:09.297439Z",
     "iopub.status.idle": "2021-01-09T16:53:35.634559Z",
     "shell.execute_reply": "2021-01-09T16:53:35.635020Z"
    },
    "papermill": {
     "duration": 26.369524,
     "end_time": "2021-01-09T16:53:35.635155",
     "exception": false,
     "start_time": "2021-01-09T16:53:09.265631",
     "status": "completed"
    },
    "tags": []
   },
   "outputs": [
    {
     "data": {
      "text/html": [
       "<div>\n",
       "<style scoped>\n",
       "    .dataframe tbody tr th:only-of-type {\n",
       "        vertical-align: middle;\n",
       "    }\n",
       "\n",
       "    .dataframe tbody tr th {\n",
       "        vertical-align: top;\n",
       "    }\n",
       "\n",
       "    .dataframe thead th {\n",
       "        text-align: right;\n",
       "    }\n",
       "</style>\n",
       "<table border=\"1\" class=\"dataframe\">\n",
       "  <thead>\n",
       "    <tr style=\"text-align: right;\">\n",
       "      <th></th>\n",
       "      <th>YEAR</th>\n",
       "      <th>MONTH</th>\n",
       "      <th>DAY</th>\n",
       "      <th>DAY_OF_WEEK</th>\n",
       "      <th>AIRLINE</th>\n",
       "      <th>FLIGHT_NUMBER</th>\n",
       "      <th>TAIL_NUMBER</th>\n",
       "      <th>ORIGIN_AIRPORT</th>\n",
       "      <th>DESTINATION_AIRPORT</th>\n",
       "      <th>SCHEDULED_DEPARTURE</th>\n",
       "      <th>...</th>\n",
       "      <th>ARRIVAL_TIME</th>\n",
       "      <th>ARRIVAL_DELAY</th>\n",
       "      <th>DIVERTED</th>\n",
       "      <th>CANCELLED</th>\n",
       "      <th>CANCELLATION_REASON</th>\n",
       "      <th>AIR_SYSTEM_DELAY</th>\n",
       "      <th>SECURITY_DELAY</th>\n",
       "      <th>AIRLINE_DELAY</th>\n",
       "      <th>LATE_AIRCRAFT_DELAY</th>\n",
       "      <th>WEATHER_DELAY</th>\n",
       "    </tr>\n",
       "  </thead>\n",
       "  <tbody>\n",
       "    <tr>\n",
       "      <th>0</th>\n",
       "      <td>2015</td>\n",
       "      <td>1</td>\n",
       "      <td>1</td>\n",
       "      <td>4</td>\n",
       "      <td>AS</td>\n",
       "      <td>98</td>\n",
       "      <td>N407AS</td>\n",
       "      <td>ANC</td>\n",
       "      <td>SEA</td>\n",
       "      <td>5</td>\n",
       "      <td>...</td>\n",
       "      <td>408.0</td>\n",
       "      <td>-22.0</td>\n",
       "      <td>0</td>\n",
       "      <td>0</td>\n",
       "      <td>NaN</td>\n",
       "      <td>NaN</td>\n",
       "      <td>NaN</td>\n",
       "      <td>NaN</td>\n",
       "      <td>NaN</td>\n",
       "      <td>NaN</td>\n",
       "    </tr>\n",
       "    <tr>\n",
       "      <th>1</th>\n",
       "      <td>2015</td>\n",
       "      <td>1</td>\n",
       "      <td>1</td>\n",
       "      <td>4</td>\n",
       "      <td>AA</td>\n",
       "      <td>2336</td>\n",
       "      <td>N3KUAA</td>\n",
       "      <td>LAX</td>\n",
       "      <td>PBI</td>\n",
       "      <td>10</td>\n",
       "      <td>...</td>\n",
       "      <td>741.0</td>\n",
       "      <td>-9.0</td>\n",
       "      <td>0</td>\n",
       "      <td>0</td>\n",
       "      <td>NaN</td>\n",
       "      <td>NaN</td>\n",
       "      <td>NaN</td>\n",
       "      <td>NaN</td>\n",
       "      <td>NaN</td>\n",
       "      <td>NaN</td>\n",
       "    </tr>\n",
       "    <tr>\n",
       "      <th>2</th>\n",
       "      <td>2015</td>\n",
       "      <td>1</td>\n",
       "      <td>1</td>\n",
       "      <td>4</td>\n",
       "      <td>US</td>\n",
       "      <td>840</td>\n",
       "      <td>N171US</td>\n",
       "      <td>SFO</td>\n",
       "      <td>CLT</td>\n",
       "      <td>20</td>\n",
       "      <td>...</td>\n",
       "      <td>811.0</td>\n",
       "      <td>5.0</td>\n",
       "      <td>0</td>\n",
       "      <td>0</td>\n",
       "      <td>NaN</td>\n",
       "      <td>NaN</td>\n",
       "      <td>NaN</td>\n",
       "      <td>NaN</td>\n",
       "      <td>NaN</td>\n",
       "      <td>NaN</td>\n",
       "    </tr>\n",
       "    <tr>\n",
       "      <th>3</th>\n",
       "      <td>2015</td>\n",
       "      <td>1</td>\n",
       "      <td>1</td>\n",
       "      <td>4</td>\n",
       "      <td>AA</td>\n",
       "      <td>258</td>\n",
       "      <td>N3HYAA</td>\n",
       "      <td>LAX</td>\n",
       "      <td>MIA</td>\n",
       "      <td>20</td>\n",
       "      <td>...</td>\n",
       "      <td>756.0</td>\n",
       "      <td>-9.0</td>\n",
       "      <td>0</td>\n",
       "      <td>0</td>\n",
       "      <td>NaN</td>\n",
       "      <td>NaN</td>\n",
       "      <td>NaN</td>\n",
       "      <td>NaN</td>\n",
       "      <td>NaN</td>\n",
       "      <td>NaN</td>\n",
       "    </tr>\n",
       "    <tr>\n",
       "      <th>4</th>\n",
       "      <td>2015</td>\n",
       "      <td>1</td>\n",
       "      <td>1</td>\n",
       "      <td>4</td>\n",
       "      <td>AS</td>\n",
       "      <td>135</td>\n",
       "      <td>N527AS</td>\n",
       "      <td>SEA</td>\n",
       "      <td>ANC</td>\n",
       "      <td>25</td>\n",
       "      <td>...</td>\n",
       "      <td>259.0</td>\n",
       "      <td>-21.0</td>\n",
       "      <td>0</td>\n",
       "      <td>0</td>\n",
       "      <td>NaN</td>\n",
       "      <td>NaN</td>\n",
       "      <td>NaN</td>\n",
       "      <td>NaN</td>\n",
       "      <td>NaN</td>\n",
       "      <td>NaN</td>\n",
       "    </tr>\n",
       "  </tbody>\n",
       "</table>\n",
       "<p>5 rows × 31 columns</p>\n",
       "</div>"
      ],
      "text/plain": [
       "   YEAR  MONTH  DAY  DAY_OF_WEEK AIRLINE  FLIGHT_NUMBER TAIL_NUMBER  \\\n",
       "0  2015      1    1            4      AS             98      N407AS   \n",
       "1  2015      1    1            4      AA           2336      N3KUAA   \n",
       "2  2015      1    1            4      US            840      N171US   \n",
       "3  2015      1    1            4      AA            258      N3HYAA   \n",
       "4  2015      1    1            4      AS            135      N527AS   \n",
       "\n",
       "  ORIGIN_AIRPORT DESTINATION_AIRPORT  SCHEDULED_DEPARTURE  ...  ARRIVAL_TIME  \\\n",
       "0            ANC                 SEA                    5  ...         408.0   \n",
       "1            LAX                 PBI                   10  ...         741.0   \n",
       "2            SFO                 CLT                   20  ...         811.0   \n",
       "3            LAX                 MIA                   20  ...         756.0   \n",
       "4            SEA                 ANC                   25  ...         259.0   \n",
       "\n",
       "   ARRIVAL_DELAY  DIVERTED  CANCELLED  CANCELLATION_REASON  AIR_SYSTEM_DELAY  \\\n",
       "0          -22.0         0          0                  NaN               NaN   \n",
       "1           -9.0         0          0                  NaN               NaN   \n",
       "2            5.0         0          0                  NaN               NaN   \n",
       "3           -9.0         0          0                  NaN               NaN   \n",
       "4          -21.0         0          0                  NaN               NaN   \n",
       "\n",
       "   SECURITY_DELAY  AIRLINE_DELAY  LATE_AIRCRAFT_DELAY  WEATHER_DELAY  \n",
       "0             NaN            NaN                  NaN            NaN  \n",
       "1             NaN            NaN                  NaN            NaN  \n",
       "2             NaN            NaN                  NaN            NaN  \n",
       "3             NaN            NaN                  NaN            NaN  \n",
       "4             NaN            NaN                  NaN            NaN  \n",
       "\n",
       "[5 rows x 31 columns]"
      ]
     },
     "execution_count": 2,
     "metadata": {},
     "output_type": "execute_result"
    }
   ],
   "source": [
    "df = pd.read_csv('D:/Widhya WPL/datasets-master/flights.csv', low_memory=False)\n",
    "df.head()"
   ]
  },
  {
   "cell_type": "markdown",
   "metadata": {
    "papermill": {
     "duration": 0.023743,
     "end_time": "2021-01-09T16:53:35.683365",
     "exception": false,
     "start_time": "2021-01-09T16:53:35.659622",
     "status": "completed"
    },
    "tags": []
   },
   "source": [
    "#### Subsetting only 100000 rows for analysis"
   ]
  },
  {
   "cell_type": "code",
   "execution_count": 3,
   "metadata": {
    "execution": {
     "iopub.execute_input": "2021-01-09T16:53:35.737480Z",
     "iopub.status.busy": "2021-01-09T16:53:35.736894Z",
     "iopub.status.idle": "2021-01-09T16:53:35.740461Z",
     "shell.execute_reply": "2021-01-09T16:53:35.739883Z"
    },
    "papermill": {
     "duration": 0.032505,
     "end_time": "2021-01-09T16:53:35.740596",
     "exception": false,
     "start_time": "2021-01-09T16:53:35.708091",
     "status": "completed"
    },
    "tags": []
   },
   "outputs": [],
   "source": [
    "df = df[0:100000]"
   ]
  },
  {
   "cell_type": "markdown",
   "metadata": {
    "papermill": {
     "duration": 0.023595,
     "end_time": "2021-01-09T16:53:35.789636",
     "exception": false,
     "start_time": "2021-01-09T16:53:35.766041",
     "status": "completed"
    },
    "tags": []
   },
   "source": [
    "#### Shape of dataset"
   ]
  },
  {
   "cell_type": "code",
   "execution_count": 4,
   "metadata": {
    "execution": {
     "iopub.execute_input": "2021-01-09T16:53:35.844088Z",
     "iopub.status.busy": "2021-01-09T16:53:35.843275Z",
     "iopub.status.idle": "2021-01-09T16:53:35.847585Z",
     "shell.execute_reply": "2021-01-09T16:53:35.847005Z"
    },
    "papermill": {
     "duration": 0.033767,
     "end_time": "2021-01-09T16:53:35.847693",
     "exception": false,
     "start_time": "2021-01-09T16:53:35.813926",
     "status": "completed"
    },
    "tags": []
   },
   "outputs": [
    {
     "data": {
      "text/plain": [
       "(100000, 31)"
      ]
     },
     "execution_count": 4,
     "metadata": {},
     "output_type": "execute_result"
    }
   ],
   "source": [
    "df.shape"
   ]
  },
  {
   "cell_type": "markdown",
   "metadata": {
    "papermill": {
     "duration": 0.023978,
     "end_time": "2021-01-09T16:53:35.895957",
     "exception": false,
     "start_time": "2021-01-09T16:53:35.871979",
     "status": "completed"
    },
    "tags": []
   },
   "source": [
    "#### Info of datasset"
   ]
  },
  {
   "cell_type": "code",
   "execution_count": 5,
   "metadata": {
    "execution": {
     "iopub.execute_input": "2021-01-09T16:53:35.951807Z",
     "iopub.status.busy": "2021-01-09T16:53:35.950583Z",
     "iopub.status.idle": "2021-01-09T16:53:35.995851Z",
     "shell.execute_reply": "2021-01-09T16:53:35.996583Z"
    },
    "papermill": {
     "duration": 0.076463,
     "end_time": "2021-01-09T16:53:35.996796",
     "exception": false,
     "start_time": "2021-01-09T16:53:35.920333",
     "status": "completed"
    },
    "tags": []
   },
   "outputs": [
    {
     "name": "stdout",
     "output_type": "stream",
     "text": [
      "<class 'pandas.core.frame.DataFrame'>\n",
      "RangeIndex: 100000 entries, 0 to 99999\n",
      "Data columns (total 31 columns):\n",
      " #   Column               Non-Null Count   Dtype  \n",
      "---  ------               --------------   -----  \n",
      " 0   YEAR                 100000 non-null  int64  \n",
      " 1   MONTH                100000 non-null  int64  \n",
      " 2   DAY                  100000 non-null  int64  \n",
      " 3   DAY_OF_WEEK          100000 non-null  int64  \n",
      " 4   AIRLINE              100000 non-null  object \n",
      " 5   FLIGHT_NUMBER        100000 non-null  int64  \n",
      " 6   TAIL_NUMBER          99833 non-null   object \n",
      " 7   ORIGIN_AIRPORT       100000 non-null  object \n",
      " 8   DESTINATION_AIRPORT  100000 non-null  object \n",
      " 9   SCHEDULED_DEPARTURE  100000 non-null  int64  \n",
      " 10  DEPARTURE_TIME       97702 non-null   float64\n",
      " 11  DEPARTURE_DELAY      97702 non-null   float64\n",
      " 12  TAXI_OUT             97629 non-null   float64\n",
      " 13  WHEELS_OFF           97629 non-null   float64\n",
      " 14  SCHEDULED_TIME       100000 non-null  float64\n",
      " 15  ELAPSED_TIME         97387 non-null   float64\n",
      " 16  AIR_TIME             97387 non-null   float64\n",
      " 17  DISTANCE             100000 non-null  int64  \n",
      " 18  WHEELS_ON            97560 non-null   float64\n",
      " 19  TAXI_IN              97560 non-null   float64\n",
      " 20  SCHEDULED_ARRIVAL    100000 non-null  int64  \n",
      " 21  ARRIVAL_TIME         97560 non-null   float64\n",
      " 22  ARRIVAL_DELAY        97387 non-null   float64\n",
      " 23  DIVERTED             100000 non-null  int64  \n",
      " 24  CANCELLED            100000 non-null  int64  \n",
      " 25  CANCELLATION_REASON  2389 non-null    object \n",
      " 26  AIR_SYSTEM_DELAY     34625 non-null   float64\n",
      " 27  SECURITY_DELAY       34625 non-null   float64\n",
      " 28  AIRLINE_DELAY        34625 non-null   float64\n",
      " 29  LATE_AIRCRAFT_DELAY  34625 non-null   float64\n",
      " 30  WEATHER_DELAY        34625 non-null   float64\n",
      "dtypes: float64(16), int64(10), object(5)\n",
      "memory usage: 23.7+ MB\n"
     ]
    }
   ],
   "source": [
    "df.info()"
   ]
  },
  {
   "cell_type": "markdown",
   "metadata": {
    "papermill": {
     "duration": 0.024595,
     "end_time": "2021-01-09T16:53:36.049762",
     "exception": false,
     "start_time": "2021-01-09T16:53:36.025167",
     "status": "completed"
    },
    "tags": []
   },
   "source": [
    "#### Unique counts of 'DIVERTED' columns, wheather 0 indicate Not Diverted and 1 is Diverted."
   ]
  },
  {
   "cell_type": "code",
   "execution_count": 6,
   "metadata": {
    "execution": {
     "iopub.execute_input": "2021-01-09T16:53:36.105065Z",
     "iopub.status.busy": "2021-01-09T16:53:36.104397Z",
     "iopub.status.idle": "2021-01-09T16:53:36.112647Z",
     "shell.execute_reply": "2021-01-09T16:53:36.112051Z"
    },
    "papermill": {
     "duration": 0.038006,
     "end_time": "2021-01-09T16:53:36.112768",
     "exception": false,
     "start_time": "2021-01-09T16:53:36.074762",
     "status": "completed"
    },
    "tags": []
   },
   "outputs": [
    {
     "data": {
      "text/plain": [
       "DIVERTED\n",
       "0    99776\n",
       "1      224\n",
       "dtype: int64"
      ]
     },
     "execution_count": 6,
     "metadata": {},
     "output_type": "execute_result"
    }
   ],
   "source": [
    "df.value_counts('DIVERTED')"
   ]
  },
  {
   "cell_type": "markdown",
   "metadata": {
    "papermill": {
     "duration": 0.025992,
     "end_time": "2021-01-09T16:53:36.164799",
     "exception": false,
     "start_time": "2021-01-09T16:53:36.138807",
     "status": "completed"
    },
    "tags": []
   },
   "source": [
    "#### Jointplot of 'SCHEDULED_ARRIVAL' and 'ARRIVAL_TIME'"
   ]
  },
  {
   "cell_type": "code",
   "execution_count": 7,
   "metadata": {
    "execution": {
     "iopub.execute_input": "2021-01-09T16:53:36.222550Z",
     "iopub.status.busy": "2021-01-09T16:53:36.221933Z",
     "iopub.status.idle": "2021-01-09T16:53:37.218341Z",
     "shell.execute_reply": "2021-01-09T16:53:37.217612Z"
    },
    "papermill": {
     "duration": 1.027829,
     "end_time": "2021-01-09T16:53:37.218472",
     "exception": false,
     "start_time": "2021-01-09T16:53:36.190643",
     "status": "completed"
    },
    "tags": []
   },
   "outputs": [
    {
     "data": {
      "text/plain": [
       "<seaborn.axisgrid.JointGrid at 0x1f626b2d8b0>"
      ]
     },
     "execution_count": 7,
     "metadata": {},
     "output_type": "execute_result"
    },
    {
     "data": {
      "image/png": "[encoded data removed]",
      "text/plain": [
       "<Figure size 432x432 with 3 Axes>"
      ]
     },
     "metadata": {
      "needs_background": "light"
     },
     "output_type": "display_data"
    }
   ],
   "source": [
    "sns.jointplot(data=df, x=\"SCHEDULED_ARRIVAL\", y=\"ARRIVAL_TIME\")"
   ]
  },
  {
   "cell_type": "markdown",
   "metadata": {
    "papermill": {
     "duration": 0.026066,
     "end_time": "2021-01-09T16:53:37.271042",
     "exception": false,
     "start_time": "2021-01-09T16:53:37.244976",
     "status": "completed"
    },
    "tags": []
   },
   "source": [
    "#### Correlation"
   ]
  },
  {
   "cell_type": "code",
   "execution_count": 8,
   "metadata": {
    "execution": {
     "iopub.execute_input": "2021-01-09T16:53:37.330414Z",
     "iopub.status.busy": "2021-01-09T16:53:37.329001Z",
     "iopub.status.idle": "2021-01-09T16:53:37.586958Z",
     "shell.execute_reply": "2021-01-09T16:53:37.586469Z"
    },
    "papermill": {
     "duration": 0.289465,
     "end_time": "2021-01-09T16:53:37.587071",
     "exception": false,
     "start_time": "2021-01-09T16:53:37.297606",
     "status": "completed"
    },
    "tags": []
   },
   "outputs": [
    {
     "data": {
      "text/html": [
       "<div>\n",
       "<style scoped>\n",
       "    .dataframe tbody tr th:only-of-type {\n",
       "        vertical-align: middle;\n",
       "    }\n",
       "\n",
       "    .dataframe tbody tr th {\n",
       "        vertical-align: top;\n",
       "    }\n",
       "\n",
       "    .dataframe thead th {\n",
       "        text-align: right;\n",
       "    }\n",
       "</style>\n",
       "<table border=\"1\" class=\"dataframe\">\n",
       "  <thead>\n",
       "    <tr style=\"text-align: right;\">\n",
       "      <th></th>\n",
       "      <th>YEAR</th>\n",
       "      <th>MONTH</th>\n",
       "      <th>DAY</th>\n",
       "      <th>DAY_OF_WEEK</th>\n",
       "      <th>FLIGHT_NUMBER</th>\n",
       "      <th>SCHEDULED_DEPARTURE</th>\n",
       "      <th>DEPARTURE_TIME</th>\n",
       "      <th>DEPARTURE_DELAY</th>\n",
       "      <th>TAXI_OUT</th>\n",
       "      <th>WHEELS_OFF</th>\n",
       "      <th>...</th>\n",
       "      <th>SCHEDULED_ARRIVAL</th>\n",
       "      <th>ARRIVAL_TIME</th>\n",
       "      <th>ARRIVAL_DELAY</th>\n",
       "      <th>DIVERTED</th>\n",
       "      <th>CANCELLED</th>\n",
       "      <th>AIR_SYSTEM_DELAY</th>\n",
       "      <th>SECURITY_DELAY</th>\n",
       "      <th>AIRLINE_DELAY</th>\n",
       "      <th>LATE_AIRCRAFT_DELAY</th>\n",
       "      <th>WEATHER_DELAY</th>\n",
       "    </tr>\n",
       "  </thead>\n",
       "  <tbody>\n",
       "    <tr>\n",
       "      <th>YEAR</th>\n",
       "      <td>NaN</td>\n",
       "      <td>NaN</td>\n",
       "      <td>NaN</td>\n",
       "      <td>NaN</td>\n",
       "      <td>NaN</td>\n",
       "      <td>NaN</td>\n",
       "      <td>NaN</td>\n",
       "      <td>NaN</td>\n",
       "      <td>NaN</td>\n",
       "      <td>NaN</td>\n",
       "      <td>...</td>\n",
       "      <td>NaN</td>\n",
       "      <td>NaN</td>\n",
       "      <td>NaN</td>\n",
       "      <td>NaN</td>\n",
       "      <td>NaN</td>\n",
       "      <td>NaN</td>\n",
       "      <td>NaN</td>\n",
       "      <td>NaN</td>\n",
       "      <td>NaN</td>\n",
       "      <td>NaN</td>\n",
       "    </tr>\n",
       "    <tr>\n",
       "      <th>MONTH</th>\n",
       "      <td>NaN</td>\n",
       "      <td>NaN</td>\n",
       "      <td>NaN</td>\n",
       "      <td>NaN</td>\n",
       "      <td>NaN</td>\n",
       "      <td>NaN</td>\n",
       "      <td>NaN</td>\n",
       "      <td>NaN</td>\n",
       "      <td>NaN</td>\n",
       "      <td>NaN</td>\n",
       "      <td>...</td>\n",
       "      <td>NaN</td>\n",
       "      <td>NaN</td>\n",
       "      <td>NaN</td>\n",
       "      <td>NaN</td>\n",
       "      <td>NaN</td>\n",
       "      <td>NaN</td>\n",
       "      <td>NaN</td>\n",
       "      <td>NaN</td>\n",
       "      <td>NaN</td>\n",
       "      <td>NaN</td>\n",
       "    </tr>\n",
       "    <tr>\n",
       "      <th>DAY</th>\n",
       "      <td>NaN</td>\n",
       "      <td>NaN</td>\n",
       "      <td>1.000000</td>\n",
       "      <td>-0.497084</td>\n",
       "      <td>0.004412</td>\n",
       "      <td>-0.138130</td>\n",
       "      <td>-0.124369</td>\n",
       "      <td>0.060064</td>\n",
       "      <td>0.093451</td>\n",
       "      <td>-0.119781</td>\n",
       "      <td>...</td>\n",
       "      <td>-0.110820</td>\n",
       "      <td>-0.091687</td>\n",
       "      <td>0.070770</td>\n",
       "      <td>0.004847</td>\n",
       "      <td>-0.006000</td>\n",
       "      <td>0.097693</td>\n",
       "      <td>-0.010550</td>\n",
       "      <td>-0.001603</td>\n",
       "      <td>0.033213</td>\n",
       "      <td>0.061960</td>\n",
       "    </tr>\n",
       "    <tr>\n",
       "      <th>DAY_OF_WEEK</th>\n",
       "      <td>NaN</td>\n",
       "      <td>NaN</td>\n",
       "      <td>-0.497084</td>\n",
       "      <td>1.000000</td>\n",
       "      <td>0.010955</td>\n",
       "      <td>0.046914</td>\n",
       "      <td>0.045182</td>\n",
       "      <td>0.055632</td>\n",
       "      <td>0.007291</td>\n",
       "      <td>0.044150</td>\n",
       "      <td>...</td>\n",
       "      <td>0.031725</td>\n",
       "      <td>0.011477</td>\n",
       "      <td>0.067520</td>\n",
       "      <td>-0.000709</td>\n",
       "      <td>-0.006409</td>\n",
       "      <td>-0.019626</td>\n",
       "      <td>0.008156</td>\n",
       "      <td>0.003648</td>\n",
       "      <td>0.033729</td>\n",
       "      <td>-0.050835</td>\n",
       "    </tr>\n",
       "    <tr>\n",
       "      <th>FLIGHT_NUMBER</th>\n",
       "      <td>NaN</td>\n",
       "      <td>NaN</td>\n",
       "      <td>0.004412</td>\n",
       "      <td>0.010955</td>\n",
       "      <td>1.000000</td>\n",
       "      <td>-0.003027</td>\n",
       "      <td>0.010140</td>\n",
       "      <td>0.034863</td>\n",
       "      <td>0.061010</td>\n",
       "      <td>0.016377</td>\n",
       "      <td>...</td>\n",
       "      <td>-0.018891</td>\n",
       "      <td>0.000753</td>\n",
       "      <td>0.056163</td>\n",
       "      <td>0.007155</td>\n",
       "      <td>0.090008</td>\n",
       "      <td>-0.032564</td>\n",
       "      <td>-0.007260</td>\n",
       "      <td>0.023770</td>\n",
       "      <td>0.076581</td>\n",
       "      <td>0.004246</td>\n",
       "    </tr>\n",
       "    <tr>\n",
       "      <th>SCHEDULED_DEPARTURE</th>\n",
       "      <td>NaN</td>\n",
       "      <td>NaN</td>\n",
       "      <td>-0.138130</td>\n",
       "      <td>0.046914</td>\n",
       "      <td>-0.003027</td>\n",
       "      <td>1.000000</td>\n",
       "      <td>0.943186</td>\n",
       "      <td>0.174254</td>\n",
       "      <td>-0.081496</td>\n",
       "      <td>0.912232</td>\n",
       "      <td>...</td>\n",
       "      <td>0.731240</td>\n",
       "      <td>0.552653</td>\n",
       "      <td>0.154951</td>\n",
       "      <td>0.002515</td>\n",
       "      <td>-0.002631</td>\n",
       "      <td>-0.112393</td>\n",
       "      <td>-0.017957</td>\n",
       "      <td>-0.054419</td>\n",
       "      <td>0.186286</td>\n",
       "      <td>-0.042004</td>\n",
       "    </tr>\n",
       "    <tr>\n",
       "      <th>DEPARTURE_TIME</th>\n",
       "      <td>NaN</td>\n",
       "      <td>NaN</td>\n",
       "      <td>-0.124369</td>\n",
       "      <td>0.045182</td>\n",
       "      <td>0.010140</td>\n",
       "      <td>0.943186</td>\n",
       "      <td>1.000000</td>\n",
       "      <td>0.243960</td>\n",
       "      <td>-0.070081</td>\n",
       "      <td>0.966477</td>\n",
       "      <td>...</td>\n",
       "      <td>0.734970</td>\n",
       "      <td>0.584615</td>\n",
       "      <td>0.223654</td>\n",
       "      <td>0.006576</td>\n",
       "      <td>0.009679</td>\n",
       "      <td>-0.093096</td>\n",
       "      <td>-0.012820</td>\n",
       "      <td>-0.013304</td>\n",
       "      <td>0.247325</td>\n",
       "      <td>-0.046406</td>\n",
       "    </tr>\n",
       "    <tr>\n",
       "      <th>DEPARTURE_DELAY</th>\n",
       "      <td>NaN</td>\n",
       "      <td>NaN</td>\n",
       "      <td>0.060064</td>\n",
       "      <td>0.055632</td>\n",
       "      <td>0.034863</td>\n",
       "      <td>0.174254</td>\n",
       "      <td>0.243960</td>\n",
       "      <td>1.000000</td>\n",
       "      <td>0.061905</td>\n",
       "      <td>0.231399</td>\n",
       "      <td>...</td>\n",
       "      <td>0.155150</td>\n",
       "      <td>0.079639</td>\n",
       "      <td>0.950838</td>\n",
       "      <td>0.020787</td>\n",
       "      <td>0.030862</td>\n",
       "      <td>0.085794</td>\n",
       "      <td>0.008040</td>\n",
       "      <td>0.606954</td>\n",
       "      <td>0.605289</td>\n",
       "      <td>0.210402</td>\n",
       "    </tr>\n",
       "    <tr>\n",
       "      <th>TAXI_OUT</th>\n",
       "      <td>NaN</td>\n",
       "      <td>NaN</td>\n",
       "      <td>0.093451</td>\n",
       "      <td>0.007291</td>\n",
       "      <td>0.061010</td>\n",
       "      <td>-0.081496</td>\n",
       "      <td>-0.070081</td>\n",
       "      <td>0.061905</td>\n",
       "      <td>1.000000</td>\n",
       "      <td>-0.043114</td>\n",
       "      <td>...</td>\n",
       "      <td>-0.062325</td>\n",
       "      <td>-0.045611</td>\n",
       "      <td>0.245363</td>\n",
       "      <td>0.009810</td>\n",
       "      <td>0.010763</td>\n",
       "      <td>0.407371</td>\n",
       "      <td>-0.008021</td>\n",
       "      <td>-0.024674</td>\n",
       "      <td>-0.129879</td>\n",
       "      <td>0.119412</td>\n",
       "    </tr>\n",
       "    <tr>\n",
       "      <th>WHEELS_OFF</th>\n",
       "      <td>NaN</td>\n",
       "      <td>NaN</td>\n",
       "      <td>-0.119781</td>\n",
       "      <td>0.044150</td>\n",
       "      <td>0.016377</td>\n",
       "      <td>0.912232</td>\n",
       "      <td>0.966477</td>\n",
       "      <td>0.231399</td>\n",
       "      <td>-0.043114</td>\n",
       "      <td>1.000000</td>\n",
       "      <td>...</td>\n",
       "      <td>0.744697</td>\n",
       "      <td>0.608611</td>\n",
       "      <td>0.217344</td>\n",
       "      <td>0.006524</td>\n",
       "      <td>0.001293</td>\n",
       "      <td>-0.085582</td>\n",
       "      <td>-0.013912</td>\n",
       "      <td>-0.017376</td>\n",
       "      <td>0.223010</td>\n",
       "      <td>-0.055273</td>\n",
       "    </tr>\n",
       "    <tr>\n",
       "      <th>SCHEDULED_TIME</th>\n",
       "      <td>NaN</td>\n",
       "      <td>NaN</td>\n",
       "      <td>-0.026285</td>\n",
       "      <td>0.019755</td>\n",
       "      <td>-0.337801</td>\n",
       "      <td>-0.019873</td>\n",
       "      <td>-0.031873</td>\n",
       "      <td>0.005868</td>\n",
       "      <td>0.096191</td>\n",
       "      <td>-0.038173</td>\n",
       "      <td>...</td>\n",
       "      <td>0.035598</td>\n",
       "      <td>0.014674</td>\n",
       "      <td>-0.022043</td>\n",
       "      <td>0.015000</td>\n",
       "      <td>-0.074084</td>\n",
       "      <td>0.056865</td>\n",
       "      <td>0.009740</td>\n",
       "      <td>0.032593</td>\n",
       "      <td>-0.084673</td>\n",
       "      <td>-0.001975</td>\n",
       "    </tr>\n",
       "    <tr>\n",
       "      <th>ELAPSED_TIME</th>\n",
       "      <td>NaN</td>\n",
       "      <td>NaN</td>\n",
       "      <td>-0.018470</td>\n",
       "      <td>0.029025</td>\n",
       "      <td>-0.318819</td>\n",
       "      <td>-0.025744</td>\n",
       "      <td>-0.035204</td>\n",
       "      <td>0.015257</td>\n",
       "      <td>0.215749</td>\n",
       "      <td>-0.038217</td>\n",
       "      <td>...</td>\n",
       "      <td>0.031223</td>\n",
       "      <td>0.016711</td>\n",
       "      <td>0.048448</td>\n",
       "      <td>NaN</td>\n",
       "      <td>NaN</td>\n",
       "      <td>0.190842</td>\n",
       "      <td>0.007724</td>\n",
       "      <td>0.009438</td>\n",
       "      <td>-0.118290</td>\n",
       "      <td>0.014470</td>\n",
       "    </tr>\n",
       "    <tr>\n",
       "      <th>AIR_TIME</th>\n",
       "      <td>NaN</td>\n",
       "      <td>NaN</td>\n",
       "      <td>-0.036330</td>\n",
       "      <td>0.030678</td>\n",
       "      <td>-0.339135</td>\n",
       "      <td>-0.011993</td>\n",
       "      <td>-0.024384</td>\n",
       "      <td>0.002733</td>\n",
       "      <td>0.077234</td>\n",
       "      <td>-0.031646</td>\n",
       "      <td>...</td>\n",
       "      <td>0.041368</td>\n",
       "      <td>0.022517</td>\n",
       "      <td>-0.002742</td>\n",
       "      <td>NaN</td>\n",
       "      <td>NaN</td>\n",
       "      <td>0.072436</td>\n",
       "      <td>0.010442</td>\n",
       "      <td>0.022433</td>\n",
       "      <td>-0.096358</td>\n",
       "      <td>-0.006582</td>\n",
       "    </tr>\n",
       "    <tr>\n",
       "      <th>DISTANCE</th>\n",
       "      <td>NaN</td>\n",
       "      <td>NaN</td>\n",
       "      <td>-0.035208</td>\n",
       "      <td>0.024666</td>\n",
       "      <td>-0.356196</td>\n",
       "      <td>0.000321</td>\n",
       "      <td>-0.016562</td>\n",
       "      <td>0.004591</td>\n",
       "      <td>0.057871</td>\n",
       "      <td>-0.027282</td>\n",
       "      <td>...</td>\n",
       "      <td>0.044615</td>\n",
       "      <td>0.017333</td>\n",
       "      <td>-0.023821</td>\n",
       "      <td>0.013996</td>\n",
       "      <td>-0.076796</td>\n",
       "      <td>0.041963</td>\n",
       "      <td>0.011547</td>\n",
       "      <td>0.030500</td>\n",
       "      <td>-0.086155</td>\n",
       "      <td>-0.010430</td>\n",
       "    </tr>\n",
       "    <tr>\n",
       "      <th>WHEELS_ON</th>\n",
       "      <td>NaN</td>\n",
       "      <td>NaN</td>\n",
       "      <td>-0.095731</td>\n",
       "      <td>0.013749</td>\n",
       "      <td>-0.003670</td>\n",
       "      <td>0.585786</td>\n",
       "      <td>0.618850</td>\n",
       "      <td>0.090696</td>\n",
       "      <td>-0.045096</td>\n",
       "      <td>0.642358</td>\n",
       "      <td>...</td>\n",
       "      <td>0.799303</td>\n",
       "      <td>0.959177</td>\n",
       "      <td>0.088131</td>\n",
       "      <td>-0.000289</td>\n",
       "      <td>NaN</td>\n",
       "      <td>-0.049010</td>\n",
       "      <td>-0.012903</td>\n",
       "      <td>-0.056574</td>\n",
       "      <td>0.054199</td>\n",
       "      <td>-0.057202</td>\n",
       "    </tr>\n",
       "    <tr>\n",
       "      <th>TAXI_IN</th>\n",
       "      <td>NaN</td>\n",
       "      <td>NaN</td>\n",
       "      <td>0.037407</td>\n",
       "      <td>-0.017789</td>\n",
       "      <td>0.014464</td>\n",
       "      <td>-0.027502</td>\n",
       "      <td>-0.017759</td>\n",
       "      <td>0.040285</td>\n",
       "      <td>0.009041</td>\n",
       "      <td>-0.015089</td>\n",
       "      <td>...</td>\n",
       "      <td>-0.001440</td>\n",
       "      <td>0.012095</td>\n",
       "      <td>0.170073</td>\n",
       "      <td>0.006915</td>\n",
       "      <td>NaN</td>\n",
       "      <td>0.299436</td>\n",
       "      <td>-0.005075</td>\n",
       "      <td>-0.051595</td>\n",
       "      <td>-0.004698</td>\n",
       "      <td>-0.018058</td>\n",
       "    </tr>\n",
       "    <tr>\n",
       "      <th>SCHEDULED_ARRIVAL</th>\n",
       "      <td>NaN</td>\n",
       "      <td>NaN</td>\n",
       "      <td>-0.110820</td>\n",
       "      <td>0.031725</td>\n",
       "      <td>-0.018891</td>\n",
       "      <td>0.731240</td>\n",
       "      <td>0.734970</td>\n",
       "      <td>0.155150</td>\n",
       "      <td>-0.062325</td>\n",
       "      <td>0.744697</td>\n",
       "      <td>...</td>\n",
       "      <td>1.000000</td>\n",
       "      <td>0.771945</td>\n",
       "      <td>0.140565</td>\n",
       "      <td>0.005992</td>\n",
       "      <td>-0.013131</td>\n",
       "      <td>-0.064453</td>\n",
       "      <td>-0.008270</td>\n",
       "      <td>-0.050435</td>\n",
       "      <td>0.146386</td>\n",
       "      <td>-0.043930</td>\n",
       "    </tr>\n",
       "    <tr>\n",
       "      <th>ARRIVAL_TIME</th>\n",
       "      <td>NaN</td>\n",
       "      <td>NaN</td>\n",
       "      <td>-0.091687</td>\n",
       "      <td>0.011477</td>\n",
       "      <td>0.000753</td>\n",
       "      <td>0.552653</td>\n",
       "      <td>0.584615</td>\n",
       "      <td>0.079639</td>\n",
       "      <td>-0.045611</td>\n",
       "      <td>0.608611</td>\n",
       "      <td>...</td>\n",
       "      <td>0.771945</td>\n",
       "      <td>1.000000</td>\n",
       "      <td>0.076791</td>\n",
       "      <td>-0.002489</td>\n",
       "      <td>NaN</td>\n",
       "      <td>-0.052236</td>\n",
       "      <td>-0.014825</td>\n",
       "      <td>-0.057557</td>\n",
       "      <td>0.050115</td>\n",
       "      <td>-0.058355</td>\n",
       "    </tr>\n",
       "    <tr>\n",
       "      <th>ARRIVAL_DELAY</th>\n",
       "      <td>NaN</td>\n",
       "      <td>NaN</td>\n",
       "      <td>0.070770</td>\n",
       "      <td>0.067520</td>\n",
       "      <td>0.056163</td>\n",
       "      <td>0.154951</td>\n",
       "      <td>0.223654</td>\n",
       "      <td>0.950838</td>\n",
       "      <td>0.245363</td>\n",
       "      <td>0.217344</td>\n",
       "      <td>...</td>\n",
       "      <td>0.140565</td>\n",
       "      <td>0.076791</td>\n",
       "      <td>1.000000</td>\n",
       "      <td>NaN</td>\n",
       "      <td>NaN</td>\n",
       "      <td>0.259700</td>\n",
       "      <td>0.006070</td>\n",
       "      <td>0.592718</td>\n",
       "      <td>0.572956</td>\n",
       "      <td>0.235906</td>\n",
       "    </tr>\n",
       "    <tr>\n",
       "      <th>DIVERTED</th>\n",
       "      <td>NaN</td>\n",
       "      <td>NaN</td>\n",
       "      <td>0.004847</td>\n",
       "      <td>-0.000709</td>\n",
       "      <td>0.007155</td>\n",
       "      <td>0.002515</td>\n",
       "      <td>0.006576</td>\n",
       "      <td>0.020787</td>\n",
       "      <td>0.009810</td>\n",
       "      <td>0.006524</td>\n",
       "      <td>...</td>\n",
       "      <td>0.005992</td>\n",
       "      <td>-0.002489</td>\n",
       "      <td>NaN</td>\n",
       "      <td>1.000000</td>\n",
       "      <td>-0.007413</td>\n",
       "      <td>NaN</td>\n",
       "      <td>NaN</td>\n",
       "      <td>NaN</td>\n",
       "      <td>NaN</td>\n",
       "      <td>NaN</td>\n",
       "    </tr>\n",
       "    <tr>\n",
       "      <th>CANCELLED</th>\n",
       "      <td>NaN</td>\n",
       "      <td>NaN</td>\n",
       "      <td>-0.006000</td>\n",
       "      <td>-0.006409</td>\n",
       "      <td>0.090008</td>\n",
       "      <td>-0.002631</td>\n",
       "      <td>0.009679</td>\n",
       "      <td>0.030862</td>\n",
       "      <td>0.010763</td>\n",
       "      <td>0.001293</td>\n",
       "      <td>...</td>\n",
       "      <td>-0.013131</td>\n",
       "      <td>NaN</td>\n",
       "      <td>NaN</td>\n",
       "      <td>-0.007413</td>\n",
       "      <td>1.000000</td>\n",
       "      <td>NaN</td>\n",
       "      <td>NaN</td>\n",
       "      <td>NaN</td>\n",
       "      <td>NaN</td>\n",
       "      <td>NaN</td>\n",
       "    </tr>\n",
       "    <tr>\n",
       "      <th>AIR_SYSTEM_DELAY</th>\n",
       "      <td>NaN</td>\n",
       "      <td>NaN</td>\n",
       "      <td>0.097693</td>\n",
       "      <td>-0.019626</td>\n",
       "      <td>-0.032564</td>\n",
       "      <td>-0.112393</td>\n",
       "      <td>-0.093096</td>\n",
       "      <td>0.085794</td>\n",
       "      <td>0.407371</td>\n",
       "      <td>-0.085582</td>\n",
       "      <td>...</td>\n",
       "      <td>-0.064453</td>\n",
       "      <td>-0.052236</td>\n",
       "      <td>0.259700</td>\n",
       "      <td>NaN</td>\n",
       "      <td>NaN</td>\n",
       "      <td>1.000000</td>\n",
       "      <td>-0.014622</td>\n",
       "      <td>-0.106087</td>\n",
       "      <td>-0.136411</td>\n",
       "      <td>0.019507</td>\n",
       "    </tr>\n",
       "    <tr>\n",
       "      <th>SECURITY_DELAY</th>\n",
       "      <td>NaN</td>\n",
       "      <td>NaN</td>\n",
       "      <td>-0.010550</td>\n",
       "      <td>0.008156</td>\n",
       "      <td>-0.007260</td>\n",
       "      <td>-0.017957</td>\n",
       "      <td>-0.012820</td>\n",
       "      <td>0.008040</td>\n",
       "      <td>-0.008021</td>\n",
       "      <td>-0.013912</td>\n",
       "      <td>...</td>\n",
       "      <td>-0.008270</td>\n",
       "      <td>-0.014825</td>\n",
       "      <td>0.006070</td>\n",
       "      <td>NaN</td>\n",
       "      <td>NaN</td>\n",
       "      <td>-0.014622</td>\n",
       "      <td>1.000000</td>\n",
       "      <td>-0.009884</td>\n",
       "      <td>-0.012136</td>\n",
       "      <td>0.000274</td>\n",
       "    </tr>\n",
       "    <tr>\n",
       "      <th>AIRLINE_DELAY</th>\n",
       "      <td>NaN</td>\n",
       "      <td>NaN</td>\n",
       "      <td>-0.001603</td>\n",
       "      <td>0.003648</td>\n",
       "      <td>0.023770</td>\n",
       "      <td>-0.054419</td>\n",
       "      <td>-0.013304</td>\n",
       "      <td>0.606954</td>\n",
       "      <td>-0.024674</td>\n",
       "      <td>-0.017376</td>\n",
       "      <td>...</td>\n",
       "      <td>-0.050435</td>\n",
       "      <td>-0.057557</td>\n",
       "      <td>0.592718</td>\n",
       "      <td>NaN</td>\n",
       "      <td>NaN</td>\n",
       "      <td>-0.106087</td>\n",
       "      <td>-0.009884</td>\n",
       "      <td>1.000000</td>\n",
       "      <td>-0.084750</td>\n",
       "      <td>-0.056336</td>\n",
       "    </tr>\n",
       "    <tr>\n",
       "      <th>LATE_AIRCRAFT_DELAY</th>\n",
       "      <td>NaN</td>\n",
       "      <td>NaN</td>\n",
       "      <td>0.033213</td>\n",
       "      <td>0.033729</td>\n",
       "      <td>0.076581</td>\n",
       "      <td>0.186286</td>\n",
       "      <td>0.247325</td>\n",
       "      <td>0.605289</td>\n",
       "      <td>-0.129879</td>\n",
       "      <td>0.223010</td>\n",
       "      <td>...</td>\n",
       "      <td>0.146386</td>\n",
       "      <td>0.050115</td>\n",
       "      <td>0.572956</td>\n",
       "      <td>NaN</td>\n",
       "      <td>NaN</td>\n",
       "      <td>-0.136411</td>\n",
       "      <td>-0.012136</td>\n",
       "      <td>-0.084750</td>\n",
       "      <td>1.000000</td>\n",
       "      <td>-0.021674</td>\n",
       "    </tr>\n",
       "    <tr>\n",
       "      <th>WEATHER_DELAY</th>\n",
       "      <td>NaN</td>\n",
       "      <td>NaN</td>\n",
       "      <td>0.061960</td>\n",
       "      <td>-0.050835</td>\n",
       "      <td>0.004246</td>\n",
       "      <td>-0.042004</td>\n",
       "      <td>-0.046406</td>\n",
       "      <td>0.210402</td>\n",
       "      <td>0.119412</td>\n",
       "      <td>-0.055273</td>\n",
       "      <td>...</td>\n",
       "      <td>-0.043930</td>\n",
       "      <td>-0.058355</td>\n",
       "      <td>0.235906</td>\n",
       "      <td>NaN</td>\n",
       "      <td>NaN</td>\n",
       "      <td>0.019507</td>\n",
       "      <td>0.000274</td>\n",
       "      <td>-0.056336</td>\n",
       "      <td>-0.021674</td>\n",
       "      <td>1.000000</td>\n",
       "    </tr>\n",
       "  </tbody>\n",
       "</table>\n",
       "<p>26 rows × 26 columns</p>\n",
       "</div>"
      ],
      "text/plain": [
       "                     YEAR  MONTH       DAY  DAY_OF_WEEK  FLIGHT_NUMBER  \\\n",
       "YEAR                  NaN    NaN       NaN          NaN            NaN   \n",
       "MONTH                 NaN    NaN       NaN          NaN            NaN   \n",
       "DAY                   NaN    NaN  1.000000    -0.497084       0.004412   \n",
       "DAY_OF_WEEK           NaN    NaN -0.497084     1.000000       0.010955   \n",
       "FLIGHT_NUMBER         NaN    NaN  0.004412     0.010955       1.000000   \n",
       "SCHEDULED_DEPARTURE   NaN    NaN -0.138130     0.046914      -0.003027   \n",
       "DEPARTURE_TIME        NaN    NaN -0.124369     0.045182       0.010140   \n",
       "DEPARTURE_DELAY       NaN    NaN  0.060064     0.055632       0.034863   \n",
       "TAXI_OUT              NaN    NaN  0.093451     0.007291       0.061010   \n",
       "WHEELS_OFF            NaN    NaN -0.119781     0.044150       0.016377   \n",
       "SCHEDULED_TIME        NaN    NaN -0.026285     0.019755      -0.337801   \n",
       "ELAPSED_TIME          NaN    NaN -0.018470     0.029025      -0.318819   \n",
       "AIR_TIME              NaN    NaN -0.036330     0.030678      -0.339135   \n",
       "DISTANCE              NaN    NaN -0.035208     0.024666      -0.356196   \n",
       "WHEELS_ON             NaN    NaN -0.095731     0.013749      -0.003670   \n",
       "TAXI_IN               NaN    NaN  0.037407    -0.017789       0.014464   \n",
       "SCHEDULED_ARRIVAL     NaN    NaN -0.110820     0.031725      -0.018891   \n",
       "ARRIVAL_TIME          NaN    NaN -0.091687     0.011477       0.000753   \n",
       "ARRIVAL_DELAY         NaN    NaN  0.070770     0.067520       0.056163   \n",
       "DIVERTED              NaN    NaN  0.004847    -0.000709       0.007155   \n",
       "CANCELLED             NaN    NaN -0.006000    -0.006409       0.090008   \n",
       "AIR_SYSTEM_DELAY      NaN    NaN  0.097693    -0.019626      -0.032564   \n",
       "SECURITY_DELAY        NaN    NaN -0.010550     0.008156      -0.007260   \n",
       "AIRLINE_DELAY         NaN    NaN -0.001603     0.003648       0.023770   \n",
       "LATE_AIRCRAFT_DELAY   NaN    NaN  0.033213     0.033729       0.076581   \n",
       "WEATHER_DELAY         NaN    NaN  0.061960    -0.050835       0.004246   \n",
       "\n",
       "                     SCHEDULED_DEPARTURE  DEPARTURE_TIME  DEPARTURE_DELAY  \\\n",
       "YEAR                                 NaN             NaN              NaN   \n",
       "MONTH                                NaN             NaN              NaN   \n",
       "DAY                            -0.138130       -0.124369         0.060064   \n",
       "DAY_OF_WEEK                     0.046914        0.045182         0.055632   \n",
       "FLIGHT_NUMBER                  -0.003027        0.010140         0.034863   \n",
       "SCHEDULED_DEPARTURE             1.000000        0.943186         0.174254   \n",
       "DEPARTURE_TIME                  0.943186        1.000000         0.243960   \n",
       "DEPARTURE_DELAY                 0.174254        0.243960         1.000000   \n",
       "TAXI_OUT                       -0.081496       -0.070081         0.061905   \n",
       "WHEELS_OFF                      0.912232        0.966477         0.231399   \n",
       "SCHEDULED_TIME                 -0.019873       -0.031873         0.005868   \n",
       "ELAPSED_TIME                   -0.025744       -0.035204         0.015257   \n",
       "AIR_TIME                       -0.011993       -0.024384         0.002733   \n",
       "DISTANCE                        0.000321       -0.016562         0.004591   \n",
       "WHEELS_ON                       0.585786        0.618850         0.090696   \n",
       "TAXI_IN                        -0.027502       -0.017759         0.040285   \n",
       "SCHEDULED_ARRIVAL               0.731240        0.734970         0.155150   \n",
       "ARRIVAL_TIME                    0.552653        0.584615         0.079639   \n",
       "ARRIVAL_DELAY                   0.154951        0.223654         0.950838   \n",
       "DIVERTED                        0.002515        0.006576         0.020787   \n",
       "CANCELLED                      -0.002631        0.009679         0.030862   \n",
       "AIR_SYSTEM_DELAY               -0.112393       -0.093096         0.085794   \n",
       "SECURITY_DELAY                 -0.017957       -0.012820         0.008040   \n",
       "AIRLINE_DELAY                  -0.054419       -0.013304         0.606954   \n",
       "LATE_AIRCRAFT_DELAY             0.186286        0.247325         0.605289   \n",
       "WEATHER_DELAY                  -0.042004       -0.046406         0.210402   \n",
       "\n",
       "                     TAXI_OUT  WHEELS_OFF  ...  SCHEDULED_ARRIVAL  \\\n",
       "YEAR                      NaN         NaN  ...                NaN   \n",
       "MONTH                     NaN         NaN  ...                NaN   \n",
       "DAY                  0.093451   -0.119781  ...          -0.110820   \n",
       "DAY_OF_WEEK          0.007291    0.044150  ...           0.031725   \n",
       "FLIGHT_NUMBER        0.061010    0.016377  ...          -0.018891   \n",
       "SCHEDULED_DEPARTURE -0.081496    0.912232  ...           0.731240   \n",
       "DEPARTURE_TIME      -0.070081    0.966477  ...           0.734970   \n",
       "DEPARTURE_DELAY      0.061905    0.231399  ...           0.155150   \n",
       "TAXI_OUT             1.000000   -0.043114  ...          -0.062325   \n",
       "WHEELS_OFF          -0.043114    1.000000  ...           0.744697   \n",
       "SCHEDULED_TIME       0.096191   -0.038173  ...           0.035598   \n",
       "ELAPSED_TIME         0.215749   -0.038217  ...           0.031223   \n",
       "AIR_TIME             0.077234   -0.031646  ...           0.041368   \n",
       "DISTANCE             0.057871   -0.027282  ...           0.044615   \n",
       "WHEELS_ON           -0.045096    0.642358  ...           0.799303   \n",
       "TAXI_IN              0.009041   -0.015089  ...          -0.001440   \n",
       "SCHEDULED_ARRIVAL   -0.062325    0.744697  ...           1.000000   \n",
       "ARRIVAL_TIME        -0.045611    0.608611  ...           0.771945   \n",
       "ARRIVAL_DELAY        0.245363    0.217344  ...           0.140565   \n",
       "DIVERTED             0.009810    0.006524  ...           0.005992   \n",
       "CANCELLED            0.010763    0.001293  ...          -0.013131   \n",
       "AIR_SYSTEM_DELAY     0.407371   -0.085582  ...          -0.064453   \n",
       "SECURITY_DELAY      -0.008021   -0.013912  ...          -0.008270   \n",
       "AIRLINE_DELAY       -0.024674   -0.017376  ...          -0.050435   \n",
       "LATE_AIRCRAFT_DELAY -0.129879    0.223010  ...           0.146386   \n",
       "WEATHER_DELAY        0.119412   -0.055273  ...          -0.043930   \n",
       "\n",
       "                     ARRIVAL_TIME  ARRIVAL_DELAY  DIVERTED  CANCELLED  \\\n",
       "YEAR                          NaN            NaN       NaN        NaN   \n",
       "MONTH                         NaN            NaN       NaN        NaN   \n",
       "DAY                     -0.091687       0.070770  0.004847  -0.006000   \n",
       "DAY_OF_WEEK              0.011477       0.067520 -0.000709  -0.006409   \n",
       "FLIGHT_NUMBER            0.000753       0.056163  0.007155   0.090008   \n",
       "SCHEDULED_DEPARTURE      0.552653       0.154951  0.002515  -0.002631   \n",
       "DEPARTURE_TIME           0.584615       0.223654  0.006576   0.009679   \n",
       "DEPARTURE_DELAY          0.079639       0.950838  0.020787   0.030862   \n",
       "TAXI_OUT                -0.045611       0.245363  0.009810   0.010763   \n",
       "WHEELS_OFF               0.608611       0.217344  0.006524   0.001293   \n",
       "SCHEDULED_TIME           0.014674      -0.022043  0.015000  -0.074084   \n",
       "ELAPSED_TIME             0.016711       0.048448       NaN        NaN   \n",
       "AIR_TIME                 0.022517      -0.002742       NaN        NaN   \n",
       "DISTANCE                 0.017333      -0.023821  0.013996  -0.076796   \n",
       "WHEELS_ON                0.959177       0.088131 -0.000289        NaN   \n",
       "TAXI_IN                  0.012095       0.170073  0.006915        NaN   \n",
       "SCHEDULED_ARRIVAL        0.771945       0.140565  0.005992  -0.013131   \n",
       "ARRIVAL_TIME             1.000000       0.076791 -0.002489        NaN   \n",
       "ARRIVAL_DELAY            0.076791       1.000000       NaN        NaN   \n",
       "DIVERTED                -0.002489            NaN  1.000000  -0.007413   \n",
       "CANCELLED                     NaN            NaN -0.007413   1.000000   \n",
       "AIR_SYSTEM_DELAY        -0.052236       0.259700       NaN        NaN   \n",
       "SECURITY_DELAY          -0.014825       0.006070       NaN        NaN   \n",
       "AIRLINE_DELAY           -0.057557       0.592718       NaN        NaN   \n",
       "LATE_AIRCRAFT_DELAY      0.050115       0.572956       NaN        NaN   \n",
       "WEATHER_DELAY           -0.058355       0.235906       NaN        NaN   \n",
       "\n",
       "                     AIR_SYSTEM_DELAY  SECURITY_DELAY  AIRLINE_DELAY  \\\n",
       "YEAR                              NaN             NaN            NaN   \n",
       "MONTH                             NaN             NaN            NaN   \n",
       "DAY                          0.097693       -0.010550      -0.001603   \n",
       "DAY_OF_WEEK                 -0.019626        0.008156       0.003648   \n",
       "FLIGHT_NUMBER               -0.032564       -0.007260       0.023770   \n",
       "SCHEDULED_DEPARTURE         -0.112393       -0.017957      -0.054419   \n",
       "DEPARTURE_TIME              -0.093096       -0.012820      -0.013304   \n",
       "DEPARTURE_DELAY              0.085794        0.008040       0.606954   \n",
       "TAXI_OUT                     0.407371       -0.008021      -0.024674   \n",
       "WHEELS_OFF                  -0.085582       -0.013912      -0.017376   \n",
       "SCHEDULED_TIME               0.056865        0.009740       0.032593   \n",
       "ELAPSED_TIME                 0.190842        0.007724       0.009438   \n",
       "AIR_TIME                     0.072436        0.010442       0.022433   \n",
       "DISTANCE                     0.041963        0.011547       0.030500   \n",
       "WHEELS_ON                   -0.049010       -0.012903      -0.056574   \n",
       "TAXI_IN                      0.299436       -0.005075      -0.051595   \n",
       "SCHEDULED_ARRIVAL           -0.064453       -0.008270      -0.050435   \n",
       "ARRIVAL_TIME                -0.052236       -0.014825      -0.057557   \n",
       "ARRIVAL_DELAY                0.259700        0.006070       0.592718   \n",
       "DIVERTED                          NaN             NaN            NaN   \n",
       "CANCELLED                         NaN             NaN            NaN   \n",
       "AIR_SYSTEM_DELAY             1.000000       -0.014622      -0.106087   \n",
       "SECURITY_DELAY              -0.014622        1.000000      -0.009884   \n",
       "AIRLINE_DELAY               -0.106087       -0.009884       1.000000   \n",
       "LATE_AIRCRAFT_DELAY         -0.136411       -0.012136      -0.084750   \n",
       "WEATHER_DELAY                0.019507        0.000274      -0.056336   \n",
       "\n",
       "                     LATE_AIRCRAFT_DELAY  WEATHER_DELAY  \n",
       "YEAR                                 NaN            NaN  \n",
       "MONTH                                NaN            NaN  \n",
       "DAY                             0.033213       0.061960  \n",
       "DAY_OF_WEEK                     0.033729      -0.050835  \n",
       "FLIGHT_NUMBER                   0.076581       0.004246  \n",
       "SCHEDULED_DEPARTURE             0.186286      -0.042004  \n",
       "DEPARTURE_TIME                  0.247325      -0.046406  \n",
       "DEPARTURE_DELAY                 0.605289       0.210402  \n",
       "TAXI_OUT                       -0.129879       0.119412  \n",
       "WHEELS_OFF                      0.223010      -0.055273  \n",
       "SCHEDULED_TIME                 -0.084673      -0.001975  \n",
       "ELAPSED_TIME                   -0.118290       0.014470  \n",
       "AIR_TIME                       -0.096358      -0.006582  \n",
       "DISTANCE                       -0.086155      -0.010430  \n",
       "WHEELS_ON                       0.054199      -0.057202  \n",
       "TAXI_IN                        -0.004698      -0.018058  \n",
       "SCHEDULED_ARRIVAL               0.146386      -0.043930  \n",
       "ARRIVAL_TIME                    0.050115      -0.058355  \n",
       "ARRIVAL_DELAY                   0.572956       0.235906  \n",
       "DIVERTED                             NaN            NaN  \n",
       "CANCELLED                            NaN            NaN  \n",
       "AIR_SYSTEM_DELAY               -0.136411       0.019507  \n",
       "SECURITY_DELAY                 -0.012136       0.000274  \n",
       "AIRLINE_DELAY                  -0.084750      -0.056336  \n",
       "LATE_AIRCRAFT_DELAY             1.000000      -0.021674  \n",
       "WEATHER_DELAY                  -0.021674       1.000000  \n",
       "\n",
       "[26 rows x 26 columns]"
      ]
     },
     "execution_count": 8,
     "metadata": {},
     "output_type": "execute_result"
    }
   ],
   "source": [
    "df.corr()"
   ]
  },
  {
   "cell_type": "markdown",
   "metadata": {
    "papermill": {
     "duration": 0.028333,
     "end_time": "2021-01-09T16:53:37.643064",
     "exception": false,
     "start_time": "2021-01-09T16:53:37.614731",
     "status": "completed"
    },
    "tags": []
   },
   "source": [
    "#### Correlation of features with 'ARRIVAL_DELAY'"
   ]
  },
  {
   "cell_type": "code",
   "execution_count": 9,
   "metadata": {
    "execution": {
     "iopub.execute_input": "2021-01-09T16:53:37.720390Z",
     "iopub.status.busy": "2021-01-09T16:53:37.719081Z",
     "iopub.status.idle": "2021-01-09T16:53:37.942531Z",
     "shell.execute_reply": "2021-01-09T16:53:37.941918Z"
    },
    "papermill": {
     "duration": 0.270935,
     "end_time": "2021-01-09T16:53:37.942643",
     "exception": false,
     "start_time": "2021-01-09T16:53:37.671708",
     "status": "completed"
    },
    "tags": []
   },
   "outputs": [
    {
     "data": {
      "text/plain": [
       "ARRIVAL_DELAY          1.000000\n",
       "DEPARTURE_DELAY        0.950838\n",
       "AIRLINE_DELAY          0.592718\n",
       "LATE_AIRCRAFT_DELAY    0.572956\n",
       "AIR_SYSTEM_DELAY       0.259700\n",
       "TAXI_OUT               0.245363\n",
       "WEATHER_DELAY          0.235906\n",
       "DEPARTURE_TIME         0.223654\n",
       "WHEELS_OFF             0.217344\n",
       "TAXI_IN                0.170073\n",
       "SCHEDULED_DEPARTURE    0.154951\n",
       "SCHEDULED_ARRIVAL      0.140565\n",
       "WHEELS_ON              0.088131\n",
       "ARRIVAL_TIME           0.076791\n",
       "DAY                    0.070770\n",
       "DAY_OF_WEEK            0.067520\n",
       "FLIGHT_NUMBER          0.056163\n",
       "ELAPSED_TIME           0.048448\n",
       "SECURITY_DELAY         0.006070\n",
       "AIR_TIME              -0.002742\n",
       "SCHEDULED_TIME        -0.022043\n",
       "DISTANCE              -0.023821\n",
       "MONTH                       NaN\n",
       "DIVERTED                    NaN\n",
       "CANCELLED                   NaN\n",
       "Name: ARRIVAL_DELAY, dtype: float64"
      ]
     },
     "execution_count": 9,
     "metadata": {},
     "output_type": "execute_result"
    }
   ],
   "source": [
    "df[df.columns[1:]].corr()['ARRIVAL_DELAY'][:].sort_values(ascending=False)"
   ]
  },
  {
   "cell_type": "markdown",
   "metadata": {
    "papermill": {
     "duration": 0.027717,
     "end_time": "2021-01-09T16:53:37.999839",
     "exception": false,
     "start_time": "2021-01-09T16:53:37.972122",
     "status": "completed"
    },
    "tags": []
   },
   "source": [
    "#### Droping unwwanted columns (i.e not highly co-related)"
   ]
  },
  {
   "cell_type": "code",
   "execution_count": 10,
   "metadata": {
    "execution": {
     "iopub.execute_input": "2021-01-09T16:53:38.062627Z",
     "iopub.status.busy": "2021-01-09T16:53:38.061817Z",
     "iopub.status.idle": "2021-01-09T16:53:38.071231Z",
     "shell.execute_reply": "2021-01-09T16:53:38.071786Z"
    },
    "papermill": {
     "duration": 0.043613,
     "end_time": "2021-01-09T16:53:38.071947",
     "exception": false,
     "start_time": "2021-01-09T16:53:38.028334",
     "status": "completed"
    },
    "tags": []
   },
   "outputs": [],
   "source": [
    "df=df.drop(['YEAR','FLIGHT_NUMBER','AIRLINE','DISTANCE','TAIL_NUMBER','TAXI_OUT', 'SCHEDULED_TIME','DEPARTURE_TIME','WHEELS_OFF','ELAPSED_TIME', 'AIR_TIME','WHEELS_ON','DAY_OF_WEEK','TAXI_IN','CANCELLATION_REASON'], axis=1)"
   ]
  },
  {
   "cell_type": "code",
   "execution_count": 11,
   "metadata": {
    "execution": {
     "iopub.execute_input": "2021-01-09T16:53:38.131633Z",
     "iopub.status.busy": "2021-01-09T16:53:38.131013Z",
     "iopub.status.idle": "2021-01-09T16:53:38.134007Z",
     "shell.execute_reply": "2021-01-09T16:53:38.134476Z"
    },
    "papermill": {
     "duration": 0.034613,
     "end_time": "2021-01-09T16:53:38.134644",
     "exception": false,
     "start_time": "2021-01-09T16:53:38.100031",
     "status": "completed"
    },
    "tags": []
   },
   "outputs": [],
   "source": [
    "#### Remaining columns after droping inwanted columns"
   ]
  },
  {
   "cell_type": "code",
   "execution_count": 12,
   "metadata": {
    "execution": {
     "iopub.execute_input": "2021-01-09T16:53:38.197000Z",
     "iopub.status.busy": "2021-01-09T16:53:38.196347Z",
     "iopub.status.idle": "2021-01-09T16:53:38.202412Z",
     "shell.execute_reply": "2021-01-09T16:53:38.201927Z"
    },
    "papermill": {
     "duration": 0.038325,
     "end_time": "2021-01-09T16:53:38.202542",
     "exception": false,
     "start_time": "2021-01-09T16:53:38.164217",
     "status": "completed"
    },
    "tags": []
   },
   "outputs": [
    {
     "data": {
      "text/plain": [
       "Index(['MONTH', 'DAY', 'ORIGIN_AIRPORT', 'DESTINATION_AIRPORT',\n",
       "       'SCHEDULED_DEPARTURE', 'DEPARTURE_DELAY', 'SCHEDULED_ARRIVAL',\n",
       "       'ARRIVAL_TIME', 'ARRIVAL_DELAY', 'DIVERTED', 'CANCELLED',\n",
       "       'AIR_SYSTEM_DELAY', 'SECURITY_DELAY', 'AIRLINE_DELAY',\n",
       "       'LATE_AIRCRAFT_DELAY', 'WEATHER_DELAY'],\n",
       "      dtype='object')"
      ]
     },
     "execution_count": 12,
     "metadata": {},
     "output_type": "execute_result"
    }
   ],
   "source": [
    "df.columns"
   ]
  },
  {
   "cell_type": "markdown",
   "metadata": {
    "papermill": {
     "duration": 0.029247,
     "end_time": "2021-01-09T16:53:38.261602",
     "exception": false,
     "start_time": "2021-01-09T16:53:38.232355",
     "status": "completed"
    },
    "tags": []
   },
   "source": [
    "#### Shape of dataset"
   ]
  },
  {
   "cell_type": "code",
   "execution_count": 13,
   "metadata": {
    "execution": {
     "iopub.execute_input": "2021-01-09T16:53:38.324123Z",
     "iopub.status.busy": "2021-01-09T16:53:38.323528Z",
     "iopub.status.idle": "2021-01-09T16:53:38.327777Z",
     "shell.execute_reply": "2021-01-09T16:53:38.327275Z"
    },
    "papermill": {
     "duration": 0.037608,
     "end_time": "2021-01-09T16:53:38.327894",
     "exception": false,
     "start_time": "2021-01-09T16:53:38.290286",
     "status": "completed"
    },
    "tags": []
   },
   "outputs": [
    {
     "data": {
      "text/plain": [
       "(100000, 16)"
      ]
     },
     "execution_count": 13,
     "metadata": {},
     "output_type": "execute_result"
    }
   ],
   "source": [
    "df.shape"
   ]
  },
  {
   "cell_type": "markdown",
   "metadata": {
    "papermill": {
     "duration": 0.028906,
     "end_time": "2021-01-09T16:53:38.385864",
     "exception": false,
     "start_time": "2021-01-09T16:53:38.356958",
     "status": "completed"
    },
    "tags": []
   },
   "source": [
    "#### Identifying Null values in dataset"
   ]
  },
  {
   "cell_type": "code",
   "execution_count": 14,
   "metadata": {
    "execution": {
     "iopub.execute_input": "2021-01-09T16:53:38.446728Z",
     "iopub.status.busy": "2021-01-09T16:53:38.446150Z",
     "iopub.status.idle": "2021-01-09T16:53:38.467439Z",
     "shell.execute_reply": "2021-01-09T16:53:38.468021Z"
    },
    "papermill": {
     "duration": 0.053321,
     "end_time": "2021-01-09T16:53:38.468159",
     "exception": false,
     "start_time": "2021-01-09T16:53:38.414838",
     "status": "completed"
    },
    "tags": []
   },
   "outputs": [
    {
     "data": {
      "text/plain": [
       "MONTH                      0\n",
       "DAY                        0\n",
       "ORIGIN_AIRPORT             0\n",
       "DESTINATION_AIRPORT        0\n",
       "SCHEDULED_DEPARTURE        0\n",
       "DEPARTURE_DELAY         2298\n",
       "SCHEDULED_ARRIVAL          0\n",
       "ARRIVAL_TIME            2440\n",
       "ARRIVAL_DELAY           2613\n",
       "DIVERTED                   0\n",
       "CANCELLED                  0\n",
       "AIR_SYSTEM_DELAY       65375\n",
       "SECURITY_DELAY         65375\n",
       "AIRLINE_DELAY          65375\n",
       "LATE_AIRCRAFT_DELAY    65375\n",
       "WEATHER_DELAY          65375\n",
       "dtype: int64"
      ]
     },
     "execution_count": 14,
     "metadata": {},
     "output_type": "execute_result"
    }
   ],
   "source": [
    "df.isna().sum()"
   ]
  },
  {
   "cell_type": "markdown",
   "metadata": {
    "papermill": {
     "duration": 0.029476,
     "end_time": "2021-01-09T16:53:38.527549",
     "exception": false,
     "start_time": "2021-01-09T16:53:38.498073",
     "status": "completed"
    },
    "tags": []
   },
   "source": [
    "#### Replacing Null values with mean"
   ]
  },
  {
   "cell_type": "code",
   "execution_count": 15,
   "metadata": {
    "execution": {
     "iopub.execute_input": "2021-01-09T16:53:38.591132Z",
     "iopub.status.busy": "2021-01-09T16:53:38.590523Z",
     "iopub.status.idle": "2021-01-09T16:53:39.901219Z",
     "shell.execute_reply": "2021-01-09T16:53:39.900596Z"
    },
    "papermill": {
     "duration": 1.344599,
     "end_time": "2021-01-09T16:53:39.901327",
     "exception": false,
     "start_time": "2021-01-09T16:53:38.556728",
     "status": "completed"
    },
    "tags": []
   },
   "outputs": [],
   "source": [
    "df=df.fillna(df.mean())"
   ]
  },
  {
   "cell_type": "code",
   "execution_count": 16,
   "metadata": {
    "execution": {
     "iopub.execute_input": "2021-01-09T16:53:39.975527Z",
     "iopub.status.busy": "2021-01-09T16:53:39.974177Z",
     "iopub.status.idle": "2021-01-09T16:53:39.984593Z",
     "shell.execute_reply": "2021-01-09T16:53:39.984049Z"
    },
    "papermill": {
     "duration": 0.053499,
     "end_time": "2021-01-09T16:53:39.984703",
     "exception": false,
     "start_time": "2021-01-09T16:53:39.931204",
     "status": "completed"
    },
    "tags": []
   },
   "outputs": [
    {
     "data": {
      "text/plain": [
       "MONTH                  0\n",
       "DAY                    0\n",
       "ORIGIN_AIRPORT         0\n",
       "DESTINATION_AIRPORT    0\n",
       "SCHEDULED_DEPARTURE    0\n",
       "DEPARTURE_DELAY        0\n",
       "SCHEDULED_ARRIVAL      0\n",
       "ARRIVAL_TIME           0\n",
       "ARRIVAL_DELAY          0\n",
       "DIVERTED               0\n",
       "CANCELLED              0\n",
       "AIR_SYSTEM_DELAY       0\n",
       "SECURITY_DELAY         0\n",
       "AIRLINE_DELAY          0\n",
       "LATE_AIRCRAFT_DELAY    0\n",
       "WEATHER_DELAY          0\n",
       "dtype: int64"
      ]
     },
     "execution_count": 16,
     "metadata": {},
     "output_type": "execute_result"
    }
   ],
   "source": [
    "df.isna().sum()"
   ]
  },
  {
   "cell_type": "markdown",
   "metadata": {
    "papermill": {
     "duration": 0.029642,
     "end_time": "2021-01-09T16:53:40.046376",
     "exception": false,
     "start_time": "2021-01-09T16:53:40.016734",
     "status": "completed"
    },
    "tags": []
   },
   "source": [
    "#### Confuction Matrix using Heatmap"
   ]
  },
  {
   "cell_type": "code",
   "execution_count": 17,
   "metadata": {
    "execution": {
     "iopub.execute_input": "2021-01-09T16:53:40.113110Z",
     "iopub.status.busy": "2021-01-09T16:53:40.112017Z",
     "iopub.status.idle": "2021-01-09T16:53:40.996265Z",
     "shell.execute_reply": "2021-01-09T16:53:40.995546Z"
    },
    "papermill": {
     "duration": 0.920025,
     "end_time": "2021-01-09T16:53:40.996390",
     "exception": false,
     "start_time": "2021-01-09T16:53:40.076365",
     "status": "completed"
    },
    "tags": []
   },
   "outputs": [
    {
     "data": {
      "text/plain": [
       "<AxesSubplot:>"
      ]
     },
     "execution_count": 17,
     "metadata": {},
     "output_type": "execute_result"
    },
    {
     "data": {
      "image/png": "[encoded data removed]",
      "text/plain": [
       "<Figure size 432x288 with 2 Axes>"
      ]
     },
     "metadata": {
      "needs_background": "light"
     },
     "output_type": "display_data"
    }
   ],
   "source": [
    "sns.heatmap(df.corr(), annot=True, cmap=\"PuBuGn\" ,fmt='g')"
   ]
  },
  {
   "cell_type": "markdown",
   "metadata": {
    "papermill": {
     "duration": 0.035164,
     "end_time": "2021-01-09T16:53:41.066227",
     "exception": false,
     "start_time": "2021-01-09T16:53:41.031063",
     "status": "completed"
    },
    "tags": []
   },
   "source": [
    "#### Here we notice that there are no dependent variable yet which serves as our result wheather flight is delayed or not. \n",
    "\n",
    "#### So here I'm creating new feature called 'result' which takes the value 0 and 1. O for the resulting flight is not delayed and 1 for flight delayed.\n",
    "\n",
    "#### Here I'm Imputing these values by using the condition if 'ARRIVAL_DELAY' is greater than 15 then imputing 1 else o."
   ]
  },
  {
   "cell_type": "code",
   "execution_count": 18,
   "metadata": {
    "execution": {
     "iopub.execute_input": "2021-01-09T16:53:41.152707Z",
     "iopub.status.busy": "2021-01-09T16:53:41.147622Z",
     "iopub.status.idle": "2021-01-09T16:53:41.167404Z",
     "shell.execute_reply": "2021-01-09T16:53:41.166865Z"
    },
    "papermill": {
     "duration": 0.067725,
     "end_time": "2021-01-09T16:53:41.167547",
     "exception": false,
     "start_time": "2021-01-09T16:53:41.099822",
     "status": "completed"
    },
    "tags": []
   },
   "outputs": [],
   "source": [
    "result=[]\n",
    "for row in df['ARRIVAL_DELAY']:\n",
    "    if row > 15:\n",
    "        result.append(1)\n",
    "    else:\n",
    "        result.append(0)  "
   ]
  },
  {
   "cell_type": "code",
   "execution_count": 19,
   "metadata": {
    "execution": {
     "iopub.execute_input": "2021-01-09T16:53:41.265017Z",
     "iopub.status.busy": "2021-01-09T16:53:41.264392Z",
     "iopub.status.idle": "2021-01-09T16:53:41.266924Z",
     "shell.execute_reply": "2021-01-09T16:53:41.267382Z"
    },
    "papermill": {
     "duration": 0.065767,
     "end_time": "2021-01-09T16:53:41.267550",
     "exception": false,
     "start_time": "2021-01-09T16:53:41.201783",
     "status": "completed"
    },
    "tags": []
   },
   "outputs": [],
   "source": [
    "df['result'] = result"
   ]
  },
  {
   "cell_type": "markdown",
   "metadata": {
    "papermill": {
     "duration": 0.033595,
     "end_time": "2021-01-09T16:53:41.335286",
     "exception": false,
     "start_time": "2021-01-09T16:53:41.301691",
     "status": "completed"
    },
    "tags": []
   },
   "source": [
    "#### Preview after adding new column 'result'"
   ]
  },
  {
   "cell_type": "code",
   "execution_count": 20,
   "metadata": {
    "execution": {
     "iopub.execute_input": "2021-01-09T16:53:41.406173Z",
     "iopub.status.busy": "2021-01-09T16:53:41.405600Z",
     "iopub.status.idle": "2021-01-09T16:53:41.422542Z",
     "shell.execute_reply": "2021-01-09T16:53:41.423119Z"
    },
    "papermill": {
     "duration": 0.054055,
     "end_time": "2021-01-09T16:53:41.423261",
     "exception": false,
     "start_time": "2021-01-09T16:53:41.369206",
     "status": "completed"
    },
    "tags": []
   },
   "outputs": [
    {
     "data": {
      "text/html": [
       "<div>\n",
       "<style scoped>\n",
       "    .dataframe tbody tr th:only-of-type {\n",
       "        vertical-align: middle;\n",
       "    }\n",
       "\n",
       "    .dataframe tbody tr th {\n",
       "        vertical-align: top;\n",
       "    }\n",
       "\n",
       "    .dataframe thead th {\n",
       "        text-align: right;\n",
       "    }\n",
       "</style>\n",
       "<table border=\"1\" class=\"dataframe\">\n",
       "  <thead>\n",
       "    <tr style=\"text-align: right;\">\n",
       "      <th></th>\n",
       "      <th>MONTH</th>\n",
       "      <th>DAY</th>\n",
       "      <th>ORIGIN_AIRPORT</th>\n",
       "      <th>DESTINATION_AIRPORT</th>\n",
       "      <th>SCHEDULED_DEPARTURE</th>\n",
       "      <th>DEPARTURE_DELAY</th>\n",
       "      <th>SCHEDULED_ARRIVAL</th>\n",
       "      <th>ARRIVAL_TIME</th>\n",
       "      <th>ARRIVAL_DELAY</th>\n",
       "      <th>DIVERTED</th>\n",
       "      <th>CANCELLED</th>\n",
       "      <th>AIR_SYSTEM_DELAY</th>\n",
       "      <th>SECURITY_DELAY</th>\n",
       "      <th>AIRLINE_DELAY</th>\n",
       "      <th>LATE_AIRCRAFT_DELAY</th>\n",
       "      <th>WEATHER_DELAY</th>\n",
       "      <th>result</th>\n",
       "    </tr>\n",
       "  </thead>\n",
       "  <tbody>\n",
       "    <tr>\n",
       "      <th>0</th>\n",
       "      <td>1</td>\n",
       "      <td>1</td>\n",
       "      <td>ANC</td>\n",
       "      <td>SEA</td>\n",
       "      <td>5</td>\n",
       "      <td>-11.0</td>\n",
       "      <td>430</td>\n",
       "      <td>408.0</td>\n",
       "      <td>-22.0</td>\n",
       "      <td>0</td>\n",
       "      <td>0</td>\n",
       "      <td>14.026801</td>\n",
       "      <td>0.070787</td>\n",
       "      <td>17.853921</td>\n",
       "      <td>26.014556</td>\n",
       "      <td>2.751971</td>\n",
       "      <td>0</td>\n",
       "    </tr>\n",
       "    <tr>\n",
       "      <th>1</th>\n",
       "      <td>1</td>\n",
       "      <td>1</td>\n",
       "      <td>LAX</td>\n",
       "      <td>PBI</td>\n",
       "      <td>10</td>\n",
       "      <td>-8.0</td>\n",
       "      <td>750</td>\n",
       "      <td>741.0</td>\n",
       "      <td>-9.0</td>\n",
       "      <td>0</td>\n",
       "      <td>0</td>\n",
       "      <td>14.026801</td>\n",
       "      <td>0.070787</td>\n",
       "      <td>17.853921</td>\n",
       "      <td>26.014556</td>\n",
       "      <td>2.751971</td>\n",
       "      <td>0</td>\n",
       "    </tr>\n",
       "    <tr>\n",
       "      <th>2</th>\n",
       "      <td>1</td>\n",
       "      <td>1</td>\n",
       "      <td>SFO</td>\n",
       "      <td>CLT</td>\n",
       "      <td>20</td>\n",
       "      <td>-2.0</td>\n",
       "      <td>806</td>\n",
       "      <td>811.0</td>\n",
       "      <td>5.0</td>\n",
       "      <td>0</td>\n",
       "      <td>0</td>\n",
       "      <td>14.026801</td>\n",
       "      <td>0.070787</td>\n",
       "      <td>17.853921</td>\n",
       "      <td>26.014556</td>\n",
       "      <td>2.751971</td>\n",
       "      <td>0</td>\n",
       "    </tr>\n",
       "    <tr>\n",
       "      <th>3</th>\n",
       "      <td>1</td>\n",
       "      <td>1</td>\n",
       "      <td>LAX</td>\n",
       "      <td>MIA</td>\n",
       "      <td>20</td>\n",
       "      <td>-5.0</td>\n",
       "      <td>805</td>\n",
       "      <td>756.0</td>\n",
       "      <td>-9.0</td>\n",
       "      <td>0</td>\n",
       "      <td>0</td>\n",
       "      <td>14.026801</td>\n",
       "      <td>0.070787</td>\n",
       "      <td>17.853921</td>\n",
       "      <td>26.014556</td>\n",
       "      <td>2.751971</td>\n",
       "      <td>0</td>\n",
       "    </tr>\n",
       "    <tr>\n",
       "      <th>4</th>\n",
       "      <td>1</td>\n",
       "      <td>1</td>\n",
       "      <td>SEA</td>\n",
       "      <td>ANC</td>\n",
       "      <td>25</td>\n",
       "      <td>-1.0</td>\n",
       "      <td>320</td>\n",
       "      <td>259.0</td>\n",
       "      <td>-21.0</td>\n",
       "      <td>0</td>\n",
       "      <td>0</td>\n",
       "      <td>14.026801</td>\n",
       "      <td>0.070787</td>\n",
       "      <td>17.853921</td>\n",
       "      <td>26.014556</td>\n",
       "      <td>2.751971</td>\n",
       "      <td>0</td>\n",
       "    </tr>\n",
       "  </tbody>\n",
       "</table>\n",
       "</div>"
      ],
      "text/plain": [
       "   MONTH  DAY ORIGIN_AIRPORT DESTINATION_AIRPORT  SCHEDULED_DEPARTURE  \\\n",
       "0      1    1            ANC                 SEA                    5   \n",
       "1      1    1            LAX                 PBI                   10   \n",
       "2      1    1            SFO                 CLT                   20   \n",
       "3      1    1            LAX                 MIA                   20   \n",
       "4      1    1            SEA                 ANC                   25   \n",
       "\n",
       "   DEPARTURE_DELAY  SCHEDULED_ARRIVAL  ARRIVAL_TIME  ARRIVAL_DELAY  DIVERTED  \\\n",
       "0            -11.0                430         408.0          -22.0         0   \n",
       "1             -8.0                750         741.0           -9.0         0   \n",
       "2             -2.0                806         811.0            5.0         0   \n",
       "3             -5.0                805         756.0           -9.0         0   \n",
       "4             -1.0                320         259.0          -21.0         0   \n",
       "\n",
       "   CANCELLED  AIR_SYSTEM_DELAY  SECURITY_DELAY  AIRLINE_DELAY  \\\n",
       "0          0         14.026801        0.070787      17.853921   \n",
       "1          0         14.026801        0.070787      17.853921   \n",
       "2          0         14.026801        0.070787      17.853921   \n",
       "3          0         14.026801        0.070787      17.853921   \n",
       "4          0         14.026801        0.070787      17.853921   \n",
       "\n",
       "   LATE_AIRCRAFT_DELAY  WEATHER_DELAY  result  \n",
       "0            26.014556       2.751971       0  \n",
       "1            26.014556       2.751971       0  \n",
       "2            26.014556       2.751971       0  \n",
       "3            26.014556       2.751971       0  \n",
       "4            26.014556       2.751971       0  "
      ]
     },
     "execution_count": 20,
     "metadata": {},
     "output_type": "execute_result"
    }
   ],
   "source": [
    "df.head()"
   ]
  },
  {
   "cell_type": "code",
   "execution_count": 21,
   "metadata": {
    "execution": {
     "iopub.execute_input": "2021-01-09T16:53:41.495649Z",
     "iopub.status.busy": "2021-01-09T16:53:41.495080Z",
     "iopub.status.idle": "2021-01-09T16:53:41.499695Z",
     "shell.execute_reply": "2021-01-09T16:53:41.499176Z"
    },
    "papermill": {
     "duration": 0.041927,
     "end_time": "2021-01-09T16:53:41.499804",
     "exception": false,
     "start_time": "2021-01-09T16:53:41.457877",
     "status": "completed"
    },
    "tags": []
   },
   "outputs": [],
   "source": [
    "#### Unique counts of 'result' columns, wheather 0 indicate        and 1 is       ."
   ]
  },
  {
   "cell_type": "code",
   "execution_count": 22,
   "metadata": {
    "execution": {
     "iopub.execute_input": "2021-01-09T16:53:41.571663Z",
     "iopub.status.busy": "2021-01-09T16:53:41.571106Z",
     "iopub.status.idle": "2021-01-09T16:53:41.579211Z",
     "shell.execute_reply": "2021-01-09T16:53:41.578744Z"
    },
    "papermill": {
     "duration": 0.044744,
     "end_time": "2021-01-09T16:53:41.579312",
     "exception": false,
     "start_time": "2021-01-09T16:53:41.534568",
     "status": "completed"
    },
    "tags": []
   },
   "outputs": [
    {
     "data": {
      "text/plain": [
       "0    63779\n",
       "1    36221\n",
       "Name: result, dtype: int64"
      ]
     },
     "execution_count": 22,
     "metadata": {},
     "output_type": "execute_result"
    }
   ],
   "source": [
    "df['result'].value_counts()"
   ]
  },
  {
   "cell_type": "markdown",
   "metadata": {
    "papermill": {
     "duration": 0.034946,
     "end_time": "2021-01-09T16:53:41.649089",
     "exception": false,
     "start_time": "2021-01-09T16:53:41.614143",
     "status": "completed"
    },
    "tags": []
   },
   "source": [
    "#### Selecting only following columns for Model Building.\n",
    ">'MONTH', 'DAY', 'SCHEDULED_DEPARTURE', 'DEPARTURE_DELAY', 'SCHEDULED_ARRIVAL', 'DIVERTED', 'CANCELLED', 'AIR_SYSTEM_DELAY','SECURITY_DELAY', 'AIRLINE_DELAY', 'LATE_AIRCRAFT_DELAY','WEATHER_DELAY', 'result'"
   ]
  },
  {
   "cell_type": "code",
   "execution_count": 23,
   "metadata": {
    "execution": {
     "iopub.execute_input": "2021-01-09T16:53:41.727428Z",
     "iopub.status.busy": "2021-01-09T16:53:41.726737Z",
     "iopub.status.idle": "2021-01-09T16:53:41.739282Z",
     "shell.execute_reply": "2021-01-09T16:53:41.739711Z"
    },
    "papermill": {
     "duration": 0.053933,
     "end_time": "2021-01-09T16:53:41.739864",
     "exception": false,
     "start_time": "2021-01-09T16:53:41.685931",
     "status": "completed"
    },
    "tags": []
   },
   "outputs": [
    {
     "data": {
      "text/plain": [
       "Index(['MONTH', 'DAY', 'SCHEDULED_DEPARTURE', 'DEPARTURE_DELAY',\n",
       "       'SCHEDULED_ARRIVAL', 'DIVERTED', 'CANCELLED', 'AIR_SYSTEM_DELAY',\n",
       "       'SECURITY_DELAY', 'AIRLINE_DELAY', 'LATE_AIRCRAFT_DELAY',\n",
       "       'WEATHER_DELAY', 'result'],\n",
       "      dtype='object')"
      ]
     },
     "execution_count": 23,
     "metadata": {},
     "output_type": "execute_result"
    }
   ],
   "source": [
    "df=df.drop(['ORIGIN_AIRPORT', 'DESTINATION_AIRPORT', 'ARRIVAL_TIME', 'ARRIVAL_DELAY'],axis=1)\n",
    "df.columns"
   ]
  },
  {
   "cell_type": "markdown",
   "metadata": {
    "papermill": {
     "duration": 0.036209,
     "end_time": "2021-01-09T16:53:41.812592",
     "exception": false,
     "start_time": "2021-01-09T16:53:41.776383",
     "status": "completed"
    },
    "tags": []
   },
   "source": [
    "#### Splitting Dataset into Training and Testing with 70:30 ratio and with random_state = 42"
   ]
  },
  {
   "cell_type": "code",
   "execution_count": 24,
   "metadata": {
    "execution": {
     "iopub.execute_input": "2021-01-09T16:53:41.887714Z",
     "iopub.status.busy": "2021-01-09T16:53:41.887137Z",
     "iopub.status.idle": "2021-01-09T16:53:41.910162Z",
     "shell.execute_reply": "2021-01-09T16:53:41.909665Z"
    },
    "papermill": {
     "duration": 0.06244,
     "end_time": "2021-01-09T16:53:41.910275",
     "exception": false,
     "start_time": "2021-01-09T16:53:41.847835",
     "status": "completed"
    },
    "tags": []
   },
   "outputs": [],
   "source": [
    "df = df.values\n",
    "X, y = df[:,:-1], df[:,-1]\n",
    "X_train, X_test, y_train, y_test = train_test_split(X, y, test_size=0.30, random_state=42)"
   ]
  },
  {
   "cell_type": "markdown",
   "metadata": {
    "papermill": {
     "duration": 0.035458,
     "end_time": "2021-01-09T16:53:41.981174",
     "exception": false,
     "start_time": "2021-01-09T16:53:41.945716",
     "status": "completed"
    },
    "tags": []
   },
   "source": [
    "#### Feature Scalling"
   ]
  },
  {
   "cell_type": "code",
   "execution_count": 25,
   "metadata": {
    "execution": {
     "iopub.execute_input": "2021-01-09T16:53:42.057988Z",
     "iopub.status.busy": "2021-01-09T16:53:42.057330Z",
     "iopub.status.idle": "2021-01-09T16:53:42.083816Z",
     "shell.execute_reply": "2021-01-09T16:53:42.084299Z"
    },
    "papermill": {
     "duration": 0.067154,
     "end_time": "2021-01-09T16:53:42.084447",
     "exception": false,
     "start_time": "2021-01-09T16:53:42.017293",
     "status": "completed"
    },
    "tags": []
   },
   "outputs": [],
   "source": [
    "scaled_features = StandardScaler().fit_transform(X_train, X_test)"
   ]
  },
  {
   "cell_type": "markdown",
   "metadata": {
    "papermill": {
     "duration": 0.035794,
     "end_time": "2021-01-09T16:53:42.156176",
     "exception": false,
     "start_time": "2021-01-09T16:53:42.120382",
     "status": "completed"
    },
    "tags": []
   },
   "source": [
    "#### Model: DecisionTreeClassifier"
   ]
  },
  {
   "cell_type": "code",
   "execution_count": 26,
   "metadata": {
    "execution": {
     "iopub.execute_input": "2021-01-09T16:53:42.232932Z",
     "iopub.status.busy": "2021-01-09T16:53:42.232277Z",
     "iopub.status.idle": "2021-01-09T16:53:42.357089Z",
     "shell.execute_reply": "2021-01-09T16:53:42.356530Z"
    },
    "papermill": {
     "duration": 0.165191,
     "end_time": "2021-01-09T16:53:42.357198",
     "exception": false,
     "start_time": "2021-01-09T16:53:42.192007",
     "status": "completed"
    },
    "tags": []
   },
   "outputs": [],
   "source": [
    "clf = DecisionTreeClassifier()\n",
    "clf = clf.fit(X_train,y_train)"
   ]
  },
  {
   "cell_type": "code",
   "execution_count": 27,
   "metadata": {
    "execution": {
     "iopub.execute_input": "2021-01-09T16:53:42.433812Z",
     "iopub.status.busy": "2021-01-09T16:53:42.433120Z",
     "iopub.status.idle": "2021-01-09T16:53:42.438898Z",
     "shell.execute_reply": "2021-01-09T16:53:42.439454Z"
    },
    "papermill": {
     "duration": 0.046655,
     "end_time": "2021-01-09T16:53:42.439604",
     "exception": false,
     "start_time": "2021-01-09T16:53:42.392949",
     "status": "completed"
    },
    "tags": []
   },
   "outputs": [],
   "source": [
    "pred = clf.predict_proba(X_test)"
   ]
  },
  {
   "cell_type": "markdown",
   "metadata": {
    "papermill": {
     "duration": 0.036464,
     "end_time": "2021-01-09T16:53:42.511623",
     "exception": false,
     "start_time": "2021-01-09T16:53:42.475159",
     "status": "completed"
    },
    "tags": []
   },
   "source": [
    "#### AUC score of Model"
   ]
  },
  {
   "cell_type": "code",
   "execution_count": 28,
   "metadata": {
    "execution": {
     "iopub.execute_input": "2021-01-09T16:53:42.589282Z",
     "iopub.status.busy": "2021-01-09T16:53:42.588649Z",
     "iopub.status.idle": "2021-01-09T16:53:42.605039Z",
     "shell.execute_reply": "2021-01-09T16:53:42.604411Z"
    },
    "papermill": {
     "duration": 0.057386,
     "end_time": "2021-01-09T16:53:42.605156",
     "exception": false,
     "start_time": "2021-01-09T16:53:42.547770",
     "status": "completed"
    },
    "tags": []
   },
   "outputs": [
    {
     "data": {
      "text/plain": [
       "0.9981224417926646"
      ]
     },
     "execution_count": 28,
     "metadata": {},
     "output_type": "execute_result"
    }
   ],
   "source": [
    "auc_score = roc_auc_score(y_test, pred[:,1])\n",
    "auc_score"
   ]
  },
  {
   "cell_type": "code",
   "execution_count": 29,
   "metadata": {
    "execution": {
     "iopub.execute_input": "2021-01-09T16:53:42.683060Z",
     "iopub.status.busy": "2021-01-09T16:53:42.682426Z",
     "iopub.status.idle": "2021-01-09T16:53:42.686333Z",
     "shell.execute_reply": "2021-01-09T16:53:42.686797Z"
    },
    "papermill": {
     "duration": 0.045552,
     "end_time": "2021-01-09T16:53:42.686948",
     "exception": false,
     "start_time": "2021-01-09T16:53:42.641396",
     "status": "completed"
    },
    "tags": []
   },
   "outputs": [
    {
     "name": "stdout",
     "output_type": "stream",
     "text": [
      "AUC Score of Model is: 99.81 %\n"
     ]
    }
   ],
   "source": [
    "print('AUC Score of Model is: {} %'.format(round(auc_score*100,2)))"
   ]
  },
  {
   "cell_type": "markdown",
   "metadata": {
    "papermill": {
     "duration": 0.036854,
     "end_time": "2021-01-09T16:53:42.761002",
     "exception": false,
     "start_time": "2021-01-09T16:53:42.724148",
     "status": "completed"
    },
    "tags": []
   },
   "source": [
    "#### Confusion Matrix and Classification Report"
   ]
  },
  {
   "cell_type": "code",
   "execution_count": 30,
   "metadata": {
    "execution": {
     "iopub.execute_input": "2021-01-09T16:53:42.843381Z",
     "iopub.status.busy": "2021-01-09T16:53:42.842670Z",
     "iopub.status.idle": "2021-01-09T16:53:42.943043Z",
     "shell.execute_reply": "2021-01-09T16:53:42.943744Z"
    },
    "papermill": {
     "duration": 0.145218,
     "end_time": "2021-01-09T16:53:42.943896",
     "exception": false,
     "start_time": "2021-01-09T16:53:42.798678",
     "status": "completed"
    },
    "tags": []
   },
   "outputs": [
    {
     "name": "stdout",
     "output_type": "stream",
     "text": [
      "Confusion Matrix:\n",
      "[[19121    19]\n",
      " [   30 10830]]\n",
      "\n",
      "Classification Report:\n",
      "              precision    recall  f1-score   support\n",
      "\n",
      "         0.0       1.00      1.00      1.00     19140\n",
      "         1.0       1.00      1.00      1.00     10860\n",
      "\n",
      "    accuracy                           1.00     30000\n",
      "   macro avg       1.00      1.00      1.00     30000\n",
      "weighted avg       1.00      1.00      1.00     30000\n",
      "\n",
      "Accuracy: 0.9983666666666666\n"
     ]
    }
   ],
   "source": [
    "from sklearn.metrics import classification_report, confusion_matrix, accuracy_score\n",
    "result1 = confusion_matrix(y_test, pred[:,1])\n",
    "print(\"Confusion Matrix:\")\n",
    "print(result1)\n",
    "print('')\n",
    "result2 = classification_report(y_test, pred[:,1])\n",
    "print(\"Classification Report:\",)\n",
    "print (result2)\n",
    "result3 = accuracy_score(y_test,pred[:,1])\n",
    "print(\"Accuracy:\",result3)"
   ]
  },
  {
   "cell_type": "code",
   "execution_count": 31,
   "metadata": {
    "execution": {
     "iopub.execute_input": "2021-01-09T16:53:43.036628Z",
     "iopub.status.busy": "2021-01-09T16:53:43.029890Z",
     "iopub.status.idle": "2021-01-09T16:53:43.232567Z",
     "shell.execute_reply": "2021-01-09T16:53:43.231966Z"
    },
    "papermill": {
     "duration": 0.251397,
     "end_time": "2021-01-09T16:53:43.232678",
     "exception": false,
     "start_time": "2021-01-09T16:53:42.981281",
     "status": "completed"
    },
    "tags": []
   },
   "outputs": [
    {
     "data": {
      "text/plain": [
       "Text(0.5, 257.44, 'Predicted label')"
      ]
     },
     "execution_count": 31,
     "metadata": {},
     "output_type": "execute_result"
    },
    {
     "data": {
      "image/png": "[encoded data removed]",
      "text/plain": [
       "<Figure size 432x288 with 2 Axes>"
      ]
     },
     "metadata": {
      "needs_background": "light"
     },
     "output_type": "display_data"
    }
   ],
   "source": [
    "class_names=[0,1]\n",
    "fig,ax=plt.subplots()\n",
    "tick_marks = np.arange(len(class_names))\n",
    "plt.xticks(tick_marks, class_names)\n",
    "plt.yticks(tick_marks, class_names)\n",
    "sns.heatmap(pd.DataFrame(result1), annot=True, cmap=\"PuBuGn\" ,fmt='g')## visualized confusion matrix using heatmap\n",
    "ax.xaxis.set_label_position(\"top\")\n",
    "plt.tight_layout()\n",
    "plt.title('Confusion matrix', y=1.1)\n",
    "plt.ylabel('Actual label')\n",
    "plt.xlabel('Predicted label')"
   ]
  },
  {
   "cell_type": "markdown",
   "metadata": {
    "papermill": {
     "duration": 0.037686,
     "end_time": "2021-01-09T16:53:43.308700",
     "exception": false,
     "start_time": "2021-01-09T16:53:43.271014",
     "status": "completed"
    },
    "tags": []
   },
   "source": [
    "#### Receiver Operating Characteristic (ROC) curve of DecisionTreeClassifier"
   ]
  },
  {
   "cell_type": "code",
   "execution_count": 32,
   "metadata": {
    "execution": {
     "iopub.execute_input": "2021-01-09T16:53:43.398053Z",
     "iopub.status.busy": "2021-01-09T16:53:43.393454Z",
     "iopub.status.idle": "2021-01-09T16:53:43.549234Z",
     "shell.execute_reply": "2021-01-09T16:53:43.548643Z"
    },
    "papermill": {
     "duration": 0.202481,
     "end_time": "2021-01-09T16:53:43.549339",
     "exception": false,
     "start_time": "2021-01-09T16:53:43.346858",
     "status": "completed"
    },
    "tags": []
   },
   "outputs": [
    {
     "data": {
      "image/png": "[encoded data removed]",
      "text/plain": [
       "<Figure size 720x432 with 1 Axes>"
      ]
     },
     "metadata": {
      "needs_background": "light"
     },
     "output_type": "display_data"
    }
   ],
   "source": [
    "plt.subplots(1, figsize=(10,6))\n",
    "plt.title('Receiver Operating Characteristic - DecisionTree')\n",
    "y_pred_proba = clf.predict_proba(X_test)[::,1]\n",
    "fpr, tpr, _ = metrics.roc_curve(y_test,  y_pred_proba)\n",
    "plt.plot(fpr, tpr)\n",
    "plt.plot([0, 1], ls=\"--\")\n",
    "plt.plot([0, 0], [1, 0] , c=\".7\"), plt.plot([1, 1] , c=\".7\")\n",
    "plt.ylabel('True Positive Rate')\n",
    "plt.xlabel('False Positive Rate')\n",
    "plt.show()"
   ]
  },
  {
   "cell_type": "markdown",
   "metadata": {
    "papermill": {
     "duration": 0.039032,
     "end_time": "2021-01-09T16:53:43.627533",
     "exception": false,
     "start_time": "2021-01-09T16:53:43.588501",
     "status": "completed"
    },
    "tags": []
   },
   "source": [
    "#### Accuracy, Precision, and Recall achived by model."
   ]
  },
  {
   "cell_type": "code",
   "execution_count": 33,
   "metadata": {
    "execution": {
     "iopub.execute_input": "2021-01-09T16:53:43.712365Z",
     "iopub.status.busy": "2021-01-09T16:53:43.711703Z",
     "iopub.status.idle": "2021-01-09T16:53:43.751878Z",
     "shell.execute_reply": "2021-01-09T16:53:43.751326Z"
    },
    "papermill": {
     "duration": 0.085322,
     "end_time": "2021-01-09T16:53:43.751999",
     "exception": false,
     "start_time": "2021-01-09T16:53:43.666677",
     "status": "completed"
    },
    "tags": []
   },
   "outputs": [
    {
     "name": "stdout",
     "output_type": "stream",
     "text": [
      "Accuracy Achieved: 99.84 %\n",
      " \n",
      "Precision Achieved: 99.82 %\n",
      " \n",
      "Recall Achieved: 99.72 %\n"
     ]
    }
   ],
   "source": [
    "print(\"Accuracy Achieved:\",round(metrics.accuracy_score(y_test, pred[:,1])*100,2),'%')\n",
    "print(' ')\n",
    "print(\"Precision Achieved:\",round(metrics.precision_score(y_test, pred[:,1])*100,2),'%')\n",
    "print(' ')\n",
    "print(\"Recall Achieved:\",round(metrics.recall_score(y_test, pred[:,1])*100,2),'%')"
   ]
  },
  {
   "cell_type": "markdown",
   "metadata": {
    "papermill": {
     "duration": 0.039927,
     "end_time": "2021-01-09T16:53:43.831989",
     "exception": false,
     "start_time": "2021-01-09T16:53:43.792062",
     "status": "completed"
    },
    "tags": []
   },
   "source": [
    "### Thank you :)"
   ]
  }
 ],
 "metadata": {
  "kernelspec": {
   "display_name": "Python 3",
   "language": "python",
   "name": "python3"
  },
  "language_info": {
   "codemirror_mode": {
    "name": "ipython",
    "version": 3
   },
   "file_extension": ".py",
   "mimetype": "text/x-python",
   "name": "python",
   "nbconvert_exporter": "python",
   "pygments_lexer": "ipython3",
   "version": "3.9.1"
  },
  "papermill": {
   "duration": 41.322329,
   "end_time": "2021-01-09T16:53:43.981016",
   "environment_variables": {},
   "exception": null,
   "input_path": "__notebook__.ipynb",
   "output_path": "__notebook__.ipynb",
   "parameters": {},
   "start_time": "2021-01-09T16:53:02.658687",
   "version": "2.1.0"
  }
 },
 "nbformat": 4,
 "nbformat_minor": 4
}
